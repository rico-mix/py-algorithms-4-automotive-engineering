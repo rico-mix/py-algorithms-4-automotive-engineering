{
 "cells": [
  {
   "cell_type": "code",
   "execution_count": 1,
   "metadata": {
    "slideshow": {
     "slide_type": "skip"
    }
   },
   "outputs": [],
   "source": [
    "# Required to load webpages\n",
    "from IPython.display import IFrame"
   ]
  },
  {
   "cell_type": "markdown",
   "metadata": {
    "slideshow": {
     "slide_type": "slide"
    }
   },
   "source": [
    "[Table of contents](../toc.ipynb)\n",
    "\n",
    "\n",
    "# Scikit-learn\n",
    "\n",
    "<a href=\"https://www.oreilly.com/library/view/introduction-to-machine/9781449369880/\"><img src=\"https://covers.oreillystatic.com/images/0636920085423/lrg.jpg\" alt=\"Scikit-learn book\" width=\"100\" align=\"right\"></a>\n",
    "<a href=\"http://shop.oreilly.com/product/0636920085423.do\"><img src=\"https://covers.oreillystatic.com/images/0636920030515/cat.gif\" alt=\"Scikit-learn book2\" width=\"100\" align=\"right\"></a>\n",
    "<img src=\"https://github.com/scikit-learn/scikit-learn/raw/master/doc/logos/scikit-learn-logo-small.png\" alt=\"Scikit-learn\" width=\"200\" align=\"right\">\n",
    "\n",
    "Scikit-learn is a mature machine learning library for Python and one of the most recognized open source projects on github. Please find here a gitbhub blog which lists state of the art machine learning programming languages and libraries [https://github.blog/2019-01-24-the-state-of-the-octoverse-machine-learning/](https://github.blog/2019-01-24-the-state-of-the-octoverse-machine-learning/)\n",
    "* Scikit-learn started as google summer of code project in 2007 and provides many machine learning algorithms for \n",
    "  * Classification,\n",
    "  * Regression,\n",
    "  * Clustering,\n",
    "  * Dimensionality reduction,\n",
    "  * Model selection,\n",
    "  * and data preprocessing.\n",
    "* Scikit-learn is very well documented [https://scikit-learn.org/stable/index.html](https://scikit-learn.org/stable/index.html) and even some books are written about this package [[Guido2016]](../references.bib), [[Albon2018]](../references.bib)."
   ]
  },
  {
   "cell_type": "code",
   "execution_count": 2,
   "metadata": {
    "slideshow": {
     "slide_type": "subslide"
    }
   },
   "outputs": [
    {
     "data": {
      "text/html": [
       "\n",
       "        <iframe\n",
       "            width=\"1000\"\n",
       "            height=\"600\"\n",
       "            src=\"https://scikit-learn.org/stable/index.html\"\n",
       "            frameborder=\"0\"\n",
       "            allowfullscreen\n",
       "        ></iframe>\n",
       "        "
      ],
      "text/plain": [
       "<IPython.lib.display.IFrame at 0x106af8910>"
      ]
     },
     "execution_count": 2,
     "metadata": {},
     "output_type": "execute_result"
    }
   ],
   "source": [
    "IFrame(src='https://scikit-learn.org/stable/index.html', width=1000, height=600)"
   ]
  },
  {
   "cell_type": "markdown",
   "metadata": {
    "slideshow": {
     "slide_type": "slide"
    }
   },
   "source": [
    "# General API of scikit-learn\n",
    "\n",
    "Although there are dozens of machine learning algorithms implemented in scikit-learn, all share a common interface. In general, you import some machine learning algorithm from a scikit-learn package, fit, and predict the data.\n",
    "\n",
    "For example we can use the linear regression estimator with these few code lines."
   ]
  },
  {
   "cell_type": "code",
   "execution_count": 3,
   "metadata": {
    "slideshow": {
     "slide_type": "fragment"
    }
   },
   "outputs": [
    {
     "data": {
      "text/plain": [
       "LinearRegression()"
      ]
     },
     "execution_count": 3,
     "metadata": {},
     "output_type": "execute_result"
    }
   ],
   "source": [
    "from sklearn import linear_model\n",
    "\n",
    "model = linear_model.LinearRegression()\n",
    "X = [[0, 0], [1, 1], [2, 2]]\n",
    "y = [0, 1, 2]\n",
    "model.fit(X, y)"
   ]
  },
  {
   "cell_type": "markdown",
   "metadata": {
    "slideshow": {
     "slide_type": "subslide"
    }
   },
   "source": [
    "Hence, almost all algorithms are initialized with `model = sklearn.SomeAlgorithm()`, and the data learning starts with the `SomeAlgorithm.fit()` method. In supervised learning, the `fit()` method requires data and targets, or labels, in unsupervised learning, just the data.\n",
    "\n",
    "After the `fit()` call, we can use the trained algorithm to make predictions on unknown data, which is the main purpose of any machine learning algorithm."
   ]
  },
  {
   "cell_type": "code",
   "execution_count": 5,
   "metadata": {
    "slideshow": {
     "slide_type": "fragment"
    }
   },
   "outputs": [
    {
     "data": {
      "text/plain": [
       "array([3.])"
      ]
     },
     "execution_count": 5,
     "metadata": {},
     "output_type": "execute_result"
    }
   ],
   "source": [
    "model.predict([[3, 3]])"
   ]
  },
  {
   "cell_type": "markdown",
   "metadata": {
    "slideshow": {
     "slide_type": "slide"
    }
   },
   "source": [
    "# Some general machine learning tips\n",
    "\n",
    "As said this small section of this course can not teach machine learning and you are more than welcome to consult one of the mentioned books in the introduction. Anyway, there are some basic concepts in machine learning you should have heard."
   ]
  },
  {
   "cell_type": "markdown",
   "metadata": {
    "slideshow": {
     "slide_type": "fragment"
    }
   },
   "source": [
    "Always [**reserve some data for testing**](https://scikit-learn.org/stable/modules/cross_validation.html) your algorithm. There are many algorithms which suffer from overfitting. Hence, test the trained algorithm on some unseen data. In practice you can use cross validation to determine the performance of your algorithm."
   ]
  },
  {
   "cell_type": "markdown",
   "metadata": {
    "slideshow": {
     "slide_type": "subslide"
    }
   },
   "source": [
    "Consider [**feature reduction**](https://scikit-learn.org/stable/modules/feature_selection.html), [**feature scaling**](https://scikit-learn.org/stable/modules/preprocessing.html#standardization-or-mean-removal-and-variance-scaling), and other data clearance tasks before machine learning. It is often more successful to scale and clean the data before you move to more advanced machine learning algorithms.\n",
    "\n",
    "Feature scaling is vital for many machine learning algorithms, because they expect feature with zero mean and unit variance entering their cost function. If you miss feature scaling, your algorithm might be dominated by features with largest variance and the algorithm might ignore features on small variance."
   ]
  },
  {
   "cell_type": "markdown",
   "metadata": {
    "slideshow": {
     "slide_type": "fragment"
    }
   },
   "source": [
    "Additionally, use either **bootstrapping** or machine learning algorithms which predict the target and its uncertainty."
   ]
  },
  {
   "cell_type": "markdown",
   "metadata": {
    "slideshow": {
     "slide_type": "slide"
    }
   },
   "source": [
    "# Choosing the right estimator\n",
    "\n",
    "It is not the goal of this class to teach machine learning because this would require an extensive course on its own to teach it on a reasonable level. However, if you have never heard about machine learning, a general overview would be helpful to find the right algorithm for your task.\n",
    "\n",
    "Luckily, scikit-learn provides a great overview and decision picture to explore and find the right algorithm for your problem."
   ]
  },
  {
   "cell_type": "code",
   "execution_count": 7,
   "metadata": {
    "slideshow": {
     "slide_type": "subslide"
    }
   },
   "outputs": [
    {
     "data": {
      "text/html": [
       "\n",
       "        <iframe\n",
       "            width=\"1000\"\n",
       "            height=\"600\"\n",
       "            src=\"https://scikit-learn.org/stable/tutorial/machine_learning_map/index.html\"\n",
       "            frameborder=\"0\"\n",
       "            allowfullscreen\n",
       "        ></iframe>\n",
       "        "
      ],
      "text/plain": [
       "<IPython.lib.display.IFrame at 0x1a17c03c50>"
      ]
     },
     "execution_count": 7,
     "metadata": {},
     "output_type": "execute_result"
    }
   ],
   "source": [
    "IFrame(src='https://scikit-learn.org/stable/tutorial/machine_learning_map/index.html', width=1000, height=600)"
   ]
  },
  {
   "cell_type": "markdown",
   "metadata": {
    "slideshow": {
     "slide_type": "slide"
    }
   },
   "source": [
    "# Some popular algorithms\n",
    "\n",
    "In the following, we will have a snapshot on regression and classification, which are probably most applied in engineering tasks. As said in scikit-learns machine learning map, a classifier predicts if some input belongs to a category, and a regression algorithm predicts a quantity.\n",
    "\n",
    "For example:\n",
    "\n",
    "**Classification** predicts if a picture is a cat or a dog.\n",
    "\n",
    "**Regression** predicts a temperature given a pressure and material properties.\n",
    "\n",
    "The `linear_model.LinearRegression()` from above is a regression algorithm."
   ]
  },
  {
   "cell_type": "markdown",
   "metadata": {
    "slideshow": {
     "slide_type": "subslide"
    }
   },
   "source": [
    "## Toy data\n",
    "\n",
    "To apply these algorithms directly, we will first import two toy data sets from scikit-learn. These data sets are part of the package."
   ]
  },
  {
   "cell_type": "code",
   "execution_count": 8,
   "metadata": {
    "slideshow": {
     "slide_type": "subslide"
    }
   },
   "outputs": [],
   "source": [
    "from sklearn import datasets\n",
    "\n",
    "# load a regression data set of Boston house prices\n",
    "boston = datasets.load_boston()\n",
    "\n",
    "# load a classification data set of hand written digits\n",
    "digits = datasets.load_digits()"
   ]
  },
  {
   "cell_type": "markdown",
   "metadata": {
    "slideshow": {
     "slide_type": "subslide"
    }
   },
   "source": [
    "### Explore the boston toy data set\n",
    "\n",
    "The boston toy data set is a regression data set where the input is a matrix of 506 samples on 13 dimensions. The target is a column vector of the median of the house price in 1000 USD.\n",
    "\n",
    "The full description of this data set can be returned by:"
   ]
  },
  {
   "cell_type": "code",
   "execution_count": 9,
   "metadata": {
    "slideshow": {
     "slide_type": "subslide"
    }
   },
   "outputs": [
    {
     "name": "stdout",
     "output_type": "stream",
     "text": [
      ".. _boston_dataset:\n",
      "\n",
      "Boston house prices dataset\n",
      "---------------------------\n",
      "\n",
      "**Data Set Characteristics:**  \n",
      "\n",
      "    :Number of Instances: 506 \n",
      "\n",
      "    :Number of Attributes: 13 numeric/categorical predictive. Median Value (attribute 14) is usually the target.\n",
      "\n",
      "    :Attribute Information (in order):\n",
      "        - CRIM     per capita crime rate by town\n",
      "        - ZN       proportion of residential land zoned for lots over 25,000 sq.ft.\n",
      "        - INDUS    proportion of non-retail business acres per town\n",
      "        - CHAS     Charles River dummy variable (= 1 if tract bounds river; 0 otherwise)\n",
      "        - NOX      nitric oxides concentration (parts per 10 million)\n",
      "        - RM       average number of rooms per dwelling\n",
      "        - AGE      proportion of owner-occupied units built prior to 1940\n",
      "        - DIS      weighted distances to five Boston employment centres\n",
      "        - RAD      index of accessibility to radial highways\n",
      "        - TAX      full-value property-tax rate per $10,000\n",
      "        - PTRATIO  pupil-teacher ratio by town\n",
      "        - B        1000(Bk - 0.63)^2 where Bk is the proportion of blacks by town\n",
      "        - LSTAT    % lower status of the population\n",
      "        - MEDV     Median value of owner-occupied homes in $1000's\n",
      "\n",
      "    :Missing Attribute Values: None\n",
      "\n",
      "    :Creator: Harrison, D. and Rubinfeld, D.L.\n",
      "\n",
      "This is a copy of UCI ML housing dataset.\n",
      "https://archive.ics.uci.edu/ml/machine-learning-databases/housing/\n",
      "\n",
      "\n",
      "This dataset was taken from the StatLib library which is maintained at Carnegie Mellon University.\n",
      "\n",
      "The Boston house-price data of Harrison, D. and Rubinfeld, D.L. 'Hedonic\n",
      "prices and the demand for clean air', J. Environ. Economics & Management,\n",
      "vol.5, 81-102, 1978.   Used in Belsley, Kuh & Welsch, 'Regression diagnostics\n",
      "...', Wiley, 1980.   N.B. Various transformations are used in the table on\n",
      "pages 244-261 of the latter.\n",
      "\n",
      "The Boston house-price data has been used in many machine learning papers that address regression\n",
      "problems.   \n",
      "     \n",
      ".. topic:: References\n",
      "\n",
      "   - Belsley, Kuh & Welsch, 'Regression diagnostics: Identifying Influential Data and Sources of Collinearity', Wiley, 1980. 244-261.\n",
      "   - Quinlan,R. (1993). Combining Instance-Based and Model-Based Learning. In Proceedings on the Tenth International Conference of Machine Learning, 236-243, University of Massachusetts, Amherst. Morgan Kaufmann.\n",
      "\n"
     ]
    }
   ],
   "source": [
    "print(boston.DESCR)"
   ]
  },
  {
   "cell_type": "code",
   "execution_count": 10,
   "metadata": {
    "slideshow": {
     "slide_type": "subslide"
    }
   },
   "outputs": [
    {
     "name": "stdout",
     "output_type": "stream",
     "text": [
      "Shape of the features X is: (506, 13)\n",
      "Shape of the targets is: (506,)\n"
     ]
    }
   ],
   "source": [
    "print(\"Shape of the features X is:\", boston.data.shape)\n",
    "print(\"Shape of the targets is:\", boston.target.shape)"
   ]
  },
  {
   "cell_type": "markdown",
   "metadata": {
    "slideshow": {
     "slide_type": "subslide"
    }
   },
   "source": [
    "### Explore the digits toy data set\n",
    "\n",
    "The digits toy data set is a classification data set of 1797 hand written digits between zero and nine. Each data point is a 8x8 gray scale image. Hence, we can view some of the digits directly."
   ]
  },
  {
   "cell_type": "code",
   "execution_count": 11,
   "metadata": {
    "slideshow": {
     "slide_type": "fragment"
    }
   },
   "outputs": [
    {
     "name": "stdout",
     "output_type": "stream",
     "text": [
      "(1797, 64)\n"
     ]
    }
   ],
   "source": [
    "print(digits.data.shape)"
   ]
  },
  {
   "cell_type": "code",
   "execution_count": 12,
   "metadata": {
    "slideshow": {
     "slide_type": "subslide"
    }
   },
   "outputs": [
    {
     "data": {
      "image/png": "[encoded data removed]",
      "text/plain": [
       "<Figure size 288x288 with 1 Axes>"
      ]
     },
     "metadata": {
      "needs_background": "light"
     },
     "output_type": "display_data"
    }
   ],
   "source": [
    "import matplotlib.pyplot as plt \n",
    " \n",
    "plt.matshow(digits.images[1], cmap=plt.cm.gray_r) \n",
    "plt.show()"
   ]
  },
  {
   "cell_type": "code",
   "execution_count": 13,
   "metadata": {
    "slideshow": {
     "slide_type": "subslide"
    }
   },
   "outputs": [
    {
     "data": {
      "image/png": "[encoded data removed]",
      "text/plain": [
       "<Figure size 288x288 with 1 Axes>"
      ]
     },
     "metadata": {
      "needs_background": "light"
     },
     "output_type": "display_data"
    },
    {
     "name": "stdout",
     "output_type": "stream",
     "text": [
      "The target category for this image is: 6\n",
      "All possible targets are: [0 1 2 3 4 5 6 7 8 9]\n"
     ]
    }
   ],
   "source": [
    "plt.matshow(digits.images[16], cmap=plt.cm.gray_r) \n",
    "plt.show()\n",
    "\n",
    "print(\"The target category for this image is:\", digits.target[16])\n",
    "print(\"All possible targets are:\", digits.target_names)"
   ]
  },
  {
   "cell_type": "markdown",
   "metadata": {
    "slideshow": {
     "slide_type": "subslide"
    }
   },
   "source": [
    "The colors of the hand written digits are actually encoded as \"z\" values of a two dimensional matrix, as you can see here:"
   ]
  },
  {
   "cell_type": "code",
   "execution_count": 14,
   "metadata": {
    "slideshow": {
     "slide_type": "fragment"
    }
   },
   "outputs": [
    {
     "data": {
      "text/plain": [
       "array([[ 0.,  0.,  5., 13.,  9.,  1.,  0.,  0.],\n",
       "       [ 0.,  0., 13., 15., 10., 15.,  5.,  0.],\n",
       "       [ 0.,  3., 15.,  2.,  0., 11.,  8.,  0.],\n",
       "       [ 0.,  4., 12.,  0.,  0.,  8.,  8.,  0.],\n",
       "       [ 0.,  5.,  8.,  0.,  0.,  9.,  8.,  0.],\n",
       "       [ 0.,  4., 11.,  0.,  1., 12.,  7.,  0.],\n",
       "       [ 0.,  2., 14.,  5., 10., 12.,  0.,  0.],\n",
       "       [ 0.,  0.,  6., 13., 10.,  0.,  0.,  0.]])"
      ]
     },
     "execution_count": 14,
     "metadata": {},
     "output_type": "execute_result"
    }
   ],
   "source": [
    "digits.images[0]"
   ]
  },
  {
   "cell_type": "markdown",
   "metadata": {
    "slideshow": {
     "slide_type": "subslide"
    }
   },
   "source": [
    "### Prepare the toy data for machine learning\n",
    "\n",
    "It is crucial to split the data into training set and test set to evaluate the performance of the machine learning algorithms on unseen data. Add to this, some quality metrics would be nice. Moreover, feature scaling was mentioned as required data pre-processing step for many machine learning algorithms.\n",
    "\n",
    "Scikit-learn offers here helpful modules and functions like `sklearn.model_selection`, `sklearn.metrics`, and `sklearn.preprocessing`."
   ]
  },
  {
   "cell_type": "code",
   "execution_count": 15,
   "metadata": {
    "slideshow": {
     "slide_type": "fragment"
    }
   },
   "outputs": [],
   "source": [
    "from sklearn.model_selection import train_test_split\n",
    "from sklearn import metrics\n",
    "from sklearn.preprocessing import StandardScaler"
   ]
  },
  {
   "cell_type": "markdown",
   "metadata": {
    "slideshow": {
     "slide_type": "subslide"
    }
   },
   "source": [
    "#### Prepare Boston data\n",
    "\n",
    "First, we start to prepare the regression data set of the Boston house prices. The next code block splits the data into training and test set, where the test set contains 30% of the data. Add to this, the data is shuffled."
   ]
  },
  {
   "cell_type": "code",
   "execution_count": 16,
   "metadata": {
    "slideshow": {
     "slide_type": "fragment"
    }
   },
   "outputs": [],
   "source": [
    "boston_X_train, boston_X_test, boston_y_train, boston_y_test = train_test_split(boston.data, boston.target, \n",
    "                                                                                test_size=0.3, shuffle=True)"
   ]
  },
  {
   "cell_type": "code",
   "execution_count": 17,
   "metadata": {
    "slideshow": {
     "slide_type": "fragment"
    }
   },
   "outputs": [
    {
     "name": "stdout",
     "output_type": "stream",
     "text": [
      "(354, 13)\n",
      "(506, 13)\n"
     ]
    }
   ],
   "source": [
    "print(boston_X_train.shape)\n",
    "print(boston.data.shape)"
   ]
  },
  {
   "cell_type": "markdown",
   "metadata": {
    "slideshow": {
     "slide_type": "subslide"
    }
   },
   "source": [
    "Now we will scale the data."
   ]
  },
  {
   "cell_type": "code",
   "execution_count": 39,
   "metadata": {
    "slideshow": {
     "slide_type": "fragment"
    }
   },
   "outputs": [],
   "source": [
    "boston_scaler = StandardScaler().fit(boston_X_train)\n",
    "\n",
    "boston_X_train_scaled = boston_scaler.transform(boston_X_train)\n",
    "boston_X_test_scaled = boston_scaler.transform(boston_X_test)"
   ]
  },
  {
   "cell_type": "code",
   "execution_count": 40,
   "metadata": {
    "slideshow": {
     "slide_type": "fragment"
    }
   },
   "outputs": [
    {
     "name": "stdout",
     "output_type": "stream",
     "text": [
      "Learned mean: [3.74516506e+00 1.05155367e+01 1.12362147e+01 8.19209040e-02\n",
      " 5.55739266e-01 6.27793503e+00 6.97000000e+01 3.72522147e+00\n",
      " 9.76553672e+00 4.10954802e+02 1.84898305e+01 3.56320876e+02\n",
      " 1.27629096e+01]\n",
      "Learned scale: [8.54581794e+00 2.30051987e+01 6.75891956e+00 2.74244179e-01\n",
      " 1.13288929e-01 6.97953266e-01 2.75834686e+01 2.01210732e+00\n",
      " 8.85755759e+00 1.69483140e+02 2.15258575e+00 9.06119134e+01\n",
      " 7.07288862e+00]\n"
     ]
    }
   ],
   "source": [
    "print(\"Learned mean:\", boston_scaler.mean_)\n",
    "print(\"Learned scale:\", boston_scaler.scale_)"
   ]
  },
  {
   "cell_type": "markdown",
   "metadata": {
    "slideshow": {
     "slide_type": "subslide"
    }
   },
   "source": [
    "#### Prepare digits\n",
    "\n",
    "Here, we just need to apply `train_test_split` and some reshape of the features. Remember that the features are a 8x8 square matrix here. We need to flatten the features first."
   ]
  },
  {
   "cell_type": "code",
   "execution_count": 41,
   "metadata": {
    "slideshow": {
     "slide_type": "fragment"
    }
   },
   "outputs": [],
   "source": [
    "digits_X = digits.images.reshape((len(digits.images), -1))"
   ]
  },
  {
   "cell_type": "code",
   "execution_count": 42,
   "metadata": {
    "slideshow": {
     "slide_type": "fragment"
    }
   },
   "outputs": [
    {
     "name": "stdout",
     "output_type": "stream",
     "text": [
      "New shape of flat digits images: (1797, 64)\n"
     ]
    }
   ],
   "source": [
    "print(\"New shape of flat digits images:\", digits_X.shape)"
   ]
  },
  {
   "cell_type": "code",
   "execution_count": 43,
   "metadata": {
    "slideshow": {
     "slide_type": "fragment"
    }
   },
   "outputs": [],
   "source": [
    "digits_X_train, digits_X_test, digits_y_train, digits_y_test = train_test_split(digits_X, digits.target, \n",
    "                                                                                test_size=0.3, shuffle=True)"
   ]
  },
  {
   "cell_type": "markdown",
   "metadata": {
    "slideshow": {
     "slide_type": "subslide"
    }
   },
   "source": [
    "## SVM for classification\n",
    "\n",
    "<a title=\"Ennepetaler86 [CC BY (https://creativecommons.org/licenses/by/3.0)]\" href=\"https://commons.wikimedia.org/wiki/File:Svm_intro.svg\"><img width=\"150\" alt=\"Svm intro\" src=\"https://upload.wikimedia.org/wikipedia/commons/thumb/f/f2/Svm_intro.svg/128px-Svm_intro.svg.png\" align=\"right\"></a>\n",
    "\n",
    "[Support vector machines](https://en.wikipedia.org/wiki/Support-vector_machine) (SVM)s are very popular supervised learners for classification, regression, and outliers detection. SVMs try to categorize data in sets with maximal gap, see figure on right. Split A has larger gap than B, therefore A is selected as dividing plane. Add to linear classification, SVMs can divide non-linear data thanks to the [kernel trick](https://en.wikipedia.org/wiki/Kernel_method#Mathematics:_the_kernel_trick), where linear non-separable data is transformed in high dimensional feature space.\n",
    "\n",
    "We can not go much deeper in the theory behind in this short introduction but we will use SVMs in practice. Please find more background in [SVM user guide of Scikit-learn](https://scikit-learn.org/stable/modules/svm.html). \n",
    "\n",
    "We will use a support vector machine for classification of the digits toy data set. The SVM is trained, its accuracy is reported in therms of precision, recall, support, and a confusion matrix. And finally, some images from the test set are compared with the prediction of the SVM."
   ]
  },
  {
   "cell_type": "code",
   "execution_count": 44,
   "metadata": {
    "slideshow": {
     "slide_type": "subslide"
    }
   },
   "outputs": [
    {
     "data": {
      "text/plain": [
       "SVC()"
      ]
     },
     "execution_count": 44,
     "metadata": {},
     "output_type": "execute_result"
    }
   ],
   "source": [
    "from sklearn import svm\n",
    "\n",
    "clf = svm.SVC()\n",
    "# train the SVM\n",
    "clf.fit(digits_X_train, digits_y_train)"
   ]
  },
  {
   "cell_type": "code",
   "execution_count": 45,
   "metadata": {
    "slideshow": {
     "slide_type": "subslide"
    }
   },
   "outputs": [
    {
     "name": "stdout",
     "output_type": "stream",
     "text": [
      "Classification accuracy report\n",
      "               precision    recall  f1-score   support\n",
      "\n",
      "           0       1.00      0.98      0.99        49\n",
      "           1       0.98      1.00      0.99        63\n",
      "           2       1.00      1.00      1.00        58\n",
      "           3       0.98      0.98      0.98        50\n",
      "           4       0.98      1.00      0.99        49\n",
      "           5       0.98      0.98      0.98        50\n",
      "           6       1.00      1.00      1.00        53\n",
      "           7       0.98      1.00      0.99        61\n",
      "           8       1.00      0.92      0.96        53\n",
      "           9       0.95      0.98      0.96        54\n",
      "\n",
      "    accuracy                           0.99       540\n",
      "   macro avg       0.99      0.98      0.98       540\n",
      "weighted avg       0.99      0.99      0.99       540\n",
      "\n"
     ]
    }
   ],
   "source": [
    "print(\"Classification accuracy report\\n\",\n",
    "    metrics.classification_report(digits_y_test, clf.predict(digits_X_test))\n",
    ")"
   ]
  },
  {
   "cell_type": "code",
   "execution_count": 46,
   "metadata": {
    "slideshow": {
     "slide_type": "subslide"
    }
   },
   "outputs": [
    {
     "data": {
      "image/png": "[encoded data removed]",
      "text/plain": [
       "<Figure size 432x288 with 2 Axes>"
      ]
     },
     "metadata": {
      "needs_background": "light"
     },
     "output_type": "display_data"
    }
   ],
   "source": [
    "# present SVM's accuracy in a confusion matrix\n",
    "metrics.plot_confusion_matrix(clf, digits_X_test, digits_y_test)\n",
    "plt.show()"
   ]
  },
  {
   "cell_type": "code",
   "execution_count": 47,
   "metadata": {
    "slideshow": {
     "slide_type": "subslide"
    }
   },
   "outputs": [
    {
     "data": {
      "image/png": "[encoded data removed]",
      "text/plain": [
       "<Figure size 1080x432 with 8 Axes>"
      ]
     },
     "metadata": {},
     "output_type": "display_data"
    }
   ],
   "source": [
    "import numpy as np\n",
    "\n",
    "fig, axs = plt.subplots(2,4, figsize=(15, 6))\n",
    "axs = axs.ravel()\n",
    "\n",
    "for i in range(8):\n",
    "    axs[i].matshow(digits_X_test[i].reshape(8, 8), cmap=plt.cm.gray_r)\n",
    "    axs[i].set_title(\"SVM:\" + str(clf.predict(digits_X_test)[i]) + \n",
    "                     \" digits_test:\" + str(digits_y_test[i]))\n",
    "    axs[i].set_xticks([]); axs[i].set_yticks([])"
   ]
  },
  {
   "cell_type": "markdown",
   "metadata": {
    "slideshow": {
     "slide_type": "subslide"
    }
   },
   "source": [
    "## SVM for regression\n",
    "\n",
    "We can also use SVMs in regression tasks. Regression is also done with `fit()` method and we will present the accuracy as mean squared error between predicted data of the SVM and test data of the Boston data set."
   ]
  },
  {
   "cell_type": "code",
   "execution_count": 48,
   "metadata": {
    "slideshow": {
     "slide_type": "fragment"
    }
   },
   "outputs": [
    {
     "data": {
      "text/plain": [
       "23.097958455229286"
      ]
     },
     "execution_count": 48,
     "metadata": {},
     "output_type": "execute_result"
    }
   ],
   "source": [
    "reg = svm.SVR()\n",
    "\n",
    "reg.fit(boston_X_train_scaled, boston_y_train)\n",
    "\n",
    "predictions = reg.predict(boston_X_test_scaled)\n",
    "metrics.mean_squared_error(boston_y_test, predictions)"
   ]
  },
  {
   "cell_type": "markdown",
   "metadata": {
    "slideshow": {
     "slide_type": "subslide"
    }
   },
   "source": [
    "A simple scatter plot on equal x and y axis range is often used to present the accuracy of a regression model. The ideal model would produce markers on a diagonal line with some elliptic shape due to noise."
   ]
  },
  {
   "cell_type": "code",
   "execution_count": 49,
   "metadata": {
    "slideshow": {
     "slide_type": "fragment"
    }
   },
   "outputs": [
    {
     "data": {
      "image/png": "[encoded data removed]",
      "text/plain": [
       "<Figure size 432x288 with 1 Axes>"
      ]
     },
     "metadata": {
      "needs_background": "light"
     },
     "output_type": "display_data"
    }
   ],
   "source": [
    "plt.figure()\n",
    "plt.plot(boston_y_test, predictions, 'k*')\n",
    "plt.plot([0, 50],[0, 50])\n",
    "plt.xlim([0, 50]); plt.ylim([0, 50])\n",
    "plt.xlabel(\"y test\")\n",
    "plt.ylabel(\"y predicted\")\n",
    "plt.axis('square')\n",
    "plt.title('SVM regression with ideal line')\n",
    "plt.show()"
   ]
  },
  {
   "cell_type": "markdown",
   "metadata": {
    "slideshow": {
     "slide_type": "subslide"
    }
   },
   "source": [
    "### Short sum up\n",
    "\n",
    "These two short SVM examples in classification and regression should show how simple it is to use Scikit-learn for machine learning. However, **we skipped entirely the theory of machine learning which is absolutely vital** to select the right algorithm and to evaluate its results.\n",
    "\n",
    "Therefore, it is highly recommended to consult the [SVM user guide of Scikit-learn](https://scikit-learn.org/stable/modules/svm.html) for further details on SVMs."
   ]
  },
  {
   "cell_type": "markdown",
   "metadata": {
    "slideshow": {
     "slide_type": "subslide"
    }
   },
   "source": [
    "## Decision tree\n",
    "\n",
    "Decision trees are another family of basic and popular machine learning algorithms for classification and regression. They present the data with simple if-then-else rules and are easy to visualize and to understand. They do not require much data preparation but can suffer from overfitting.\n",
    "\n",
    "Imagine a data set of one feature, which is the age of persons, and the target, which is a vector of labels of two categories driver and non_driver (cars). The age ranges from zero to 90 years. A trained decision tree might look like\n",
    "\n",
    "```\n",
    "if age > 18:\n",
    "    driver\n",
    "else:\n",
    "    non_driver\n",
    "```\n",
    "\n",
    "This is not very exciting because we know the relation ship between age and drivers license behind. However, note that decision trees generate such if-then-else rules purely form data! Hence, they can be used to uncover hidden rules in data and are very popular because of that."
   ]
  },
  {
   "cell_type": "markdown",
   "metadata": {
    "slideshow": {
     "slide_type": "subslide"
    }
   },
   "source": [
    "But how does the decision tree find these rules? Another set of rules for this problem might have more trees for instance\n",
    "\n",
    "```\n",
    "if age == 17:\n",
    "    driver\n",
    "elif age > 18:\n",
    "    driver\n",
    "else:\n",
    "    non_driver\n",
    "```\n",
    "\n",
    "This decision tree catches one driver which is 17 and made her license probably elsewhere. It is a rare event. However, the more branches the tree the higher precision but the poorer the generalization. Trees with too many branches suffer from overfitting. So how is the split into trees done?"
   ]
  },
  {
   "cell_type": "markdown",
   "metadata": {
    "slideshow": {
     "slide_type": "subslide"
    }
   },
   "source": [
    "### Tree construction\n",
    "\n",
    "One basic algorithm to construct the tree in an optimal way is the [ID3 algorithm](https://en.wikipedia.org/wiki/ID3_algorithm) which is build on entropy and information gain. Entropy is the amount of uncertainty in a data set and the tree tries to minimize the entropy in each node (uniform data in each node) and therefore maximizes the information gain in each node.\n",
    "\n",
    "The information gain is defined by\n",
    "\n",
    "$IG(S, A) = H(S) - \\sum p(t)H(t) = H(S) - H(S|A)$,\n",
    "\n",
    "where $H(S)$ is the entropy of the data set, $T$ are the subsets from splitting $S$, $p(t)$ is the fraction of elements in $t$ to elements in $S$, and $H(t)$ is the entropy of subset $t$.\n",
    "\n",
    "So basically decision tree algorithms measure the information after a split and construct the tree so that the information gain is maximized.\n",
    "\n",
    "Please find much more information in [Decision tree user guide of Scikit-learn](https://scikit-learn.org/stable/modules/tree.html) we skipped here many important concepts such as ensemble trees ([Random Forest](https://en.wikipedia.org/wiki/Random_forest), [Gradient Boosting](https://en.wikipedia.org/wiki/Gradient_boosting)) to treat bias variance dilemma of decision trees."
   ]
  },
  {
   "cell_type": "markdown",
   "metadata": {
    "slideshow": {
     "slide_type": "subslide"
    }
   },
   "source": [
    "## Decision tree for classification\n",
    "\n",
    "Let us train now a decision tree for the classification data set."
   ]
  },
  {
   "cell_type": "code",
   "execution_count": 50,
   "metadata": {
    "slideshow": {
     "slide_type": "fragment"
    }
   },
   "outputs": [
    {
     "data": {
      "text/plain": [
       "DecisionTreeClassifier()"
      ]
     },
     "execution_count": 50,
     "metadata": {},
     "output_type": "execute_result"
    }
   ],
   "source": [
    "from sklearn import tree\n",
    "\n",
    "clf = tree.DecisionTreeClassifier()\n",
    "clf.fit(digits_X_train, digits_y_train)"
   ]
  },
  {
   "cell_type": "code",
   "execution_count": 51,
   "metadata": {
    "slideshow": {
     "slide_type": "subslide"
    }
   },
   "outputs": [
    {
     "name": "stdout",
     "output_type": "stream",
     "text": [
      "Classification accuracy report\n",
      "               precision    recall  f1-score   support\n",
      "\n",
      "           0       0.92      0.92      0.92        49\n",
      "           1       0.83      0.78      0.80        63\n",
      "           2       0.91      0.88      0.89        58\n",
      "           3       0.74      0.86      0.80        50\n",
      "           4       0.84      0.73      0.78        49\n",
      "           5       0.76      0.94      0.84        50\n",
      "           6       0.93      0.96      0.94        53\n",
      "           7       0.87      0.87      0.87        61\n",
      "           8       0.75      0.72      0.73        53\n",
      "           9       0.85      0.72      0.78        54\n",
      "\n",
      "    accuracy                           0.84       540\n",
      "   macro avg       0.84      0.84      0.84       540\n",
      "weighted avg       0.84      0.84      0.84       540\n",
      "\n"
     ]
    }
   ],
   "source": [
    "print(\"Classification accuracy report\\n\",\n",
    "    metrics.classification_report(digits_y_test, clf.predict(digits_X_test))\n",
    ")"
   ]
  },
  {
   "cell_type": "code",
   "execution_count": 52,
   "metadata": {
    "slideshow": {
     "slide_type": "subslide"
    }
   },
   "outputs": [
    {
     "data": {
      "image/png": "[encoded data removed]",
      "text/plain": [
       "<Figure size 432x288 with 2 Axes>"
      ]
     },
     "metadata": {
      "needs_background": "light"
     },
     "output_type": "display_data"
    }
   ],
   "source": [
    "# present decision tree's accuracy in a confusion matrix\n",
    "metrics.plot_confusion_matrix(clf, digits_X_test, digits_y_test)\n",
    "plt.show()"
   ]
  },
  {
   "cell_type": "markdown",
   "metadata": {
    "slideshow": {
     "slide_type": "subslide"
    }
   },
   "source": [
    "## Decision tree for regression\n",
    "\n",
    "Very similar to SVM regression code, we can compute the regression with a decision tree in a few lines of code."
   ]
  },
  {
   "cell_type": "code",
   "execution_count": 53,
   "metadata": {
    "slideshow": {
     "slide_type": "subslide"
    }
   },
   "outputs": [
    {
     "data": {
      "text/plain": [
       "11.334473684210527"
      ]
     },
     "execution_count": 53,
     "metadata": {},
     "output_type": "execute_result"
    }
   ],
   "source": [
    "reg = tree.DecisionTreeRegressor()\n",
    "\n",
    "reg.fit(boston_X_train_scaled, boston_y_train)\n",
    "\n",
    "predictions = reg.predict(boston_X_test_scaled)\n",
    "metrics.mean_squared_error(boston_y_test, predictions)"
   ]
  },
  {
   "cell_type": "code",
   "execution_count": 54,
   "metadata": {
    "slideshow": {
     "slide_type": "subslide"
    }
   },
   "outputs": [
    {
     "data": {
      "image/png": "[encoded data removed]",
      "text/plain": [
       "<Figure size 432x288 with 1 Axes>"
      ]
     },
     "metadata": {
      "needs_background": "light"
     },
     "output_type": "display_data"
    }
   ],
   "source": [
    "plt.figure()\n",
    "plt.plot(boston_y_test, predictions, 'k*')\n",
    "plt.plot([0, 50],[0, 50])\n",
    "plt.xlim([0, 50]); plt.ylim([0, 50])\n",
    "plt.xlabel(\"y test\")\n",
    "plt.ylabel(\"y predicted\")\n",
    "plt.axis('square')\n",
    "plt.title('Decision tree regression with ideal line')\n",
    "plt.show()"
   ]
  },
  {
   "cell_type": "markdown",
   "metadata": {
    "slideshow": {
     "slide_type": "subslide"
    }
   },
   "source": [
    "Herein, the decision tree performed worse than the SVM."
   ]
  },
  {
   "cell_type": "markdown",
   "metadata": {
    "slideshow": {
     "slide_type": "slide"
    }
   },
   "source": [
    "# Exercise:  Scikit-learn (20 minutes)\n",
    "\n",
    "<img src=\"../_static/exercise.png\" alt=\"Exercise\" width=\"75\" align=\"left\">\n",
    "\n",
    "<a title=\"Dake, Mysid [CC BY (https://creativecommons.org/licenses/by/1.0)]\" href=\"https://commons.wikimedia.org/wiki/File:Neural_network.svg\"><img width=\"250\" alt=\"Neural network\" src=\"https://upload.wikimedia.org/wikipedia/commons/thumb/3/3d/Neural_network.svg/512px-Neural_network.svg.png\" align=\"right\"></a>\n",
    "\n",
    "* Please use a multilayer perceptron neural network [form Scikit-learn](https://scikit-learn.org/stable/modules/neural_networks_supervised.html) to compute a neural network classifier for the digits data set.\n",
    "* The neural network should have one hidden layers with 5 neurons.\n",
    "* How does the confusion matrix look like?\n",
    "* What is the overall accuracy?\n",
    "\n",
    "*Neural network image from: Dake, Mysid - Vectorized by Mysid in CorelDraw on an image by Dake., CC BY 1.0, https://commons.wikimedia.org/w/index.php?curid=1412126*"
   ]
  },
  {
   "cell_type": "code",
   "execution_count": 71,
   "metadata": {},
   "outputs": [
    {
     "name": "stderr",
     "output_type": "stream",
     "text": [
      "/Users/Rico/opt/miniconda3/lib/python3.7/site-packages/sklearn/neural_network/_multilayer_perceptron.py:585: ConvergenceWarning: Stochastic Optimizer: Maximum iterations (200) reached and the optimization hasn't converged yet.\n",
      "  % self.max_iter, ConvergenceWarning)\n"
     ]
    },
    {
     "data": {
      "image/png": "[encoded data removed]",
      "text/plain": [
       "<Figure size 432x288 with 2 Axes>"
      ]
     },
     "metadata": {
      "needs_background": "light"
     },
     "output_type": "display_data"
    },
    {
     "name": "stdout",
     "output_type": "stream",
     "text": [
      "Mlp NN Classification accuracy report\n",
      "               precision    recall  f1-score   support\n",
      "\n",
      "           0       0.98      1.00      0.99        57\n",
      "           1       0.88      0.88      0.88        51\n",
      "           2       0.90      0.92      0.91        39\n",
      "           3       0.83      0.93      0.88        54\n",
      "           4       0.92      0.92      0.92        52\n",
      "           5       0.93      0.85      0.88        59\n",
      "           6       0.95      0.97      0.96        59\n",
      "           7       0.87      0.85      0.86        54\n",
      "           8       0.85      0.87      0.86        60\n",
      "           9       0.88      0.82      0.85        55\n",
      "\n",
      "    accuracy                           0.90       540\n",
      "   macro avg       0.90      0.90      0.90       540\n",
      "weighted avg       0.90      0.90      0.90       540\n",
      "\n"
     ]
    }
   ],
   "source": [
    "#own solution\n",
    "\n",
    "import matplotlib.pyplot as plt\n",
    "from sklearn import datasets\n",
    "from sklearn.neural_network import MLPClassifier\n",
    "from sklearn.model_selection import train_test_split\n",
    "from sklearn import metrics\n",
    "\n",
    "#prepare digits\n",
    "digits = datasets.load_digits()\n",
    "digits_X = digits.images.reshape((len(digits.images), -1))\n",
    "digits_X_train, digits_X_test, digits_y_train, digits_y_test = train_test_split(digits_X, digits.target, \n",
    "                                                                                test_size=0.3, shuffle=True)\n",
    "#Classifier\n",
    "clf_mlp = MLPClassifier(hidden_layer_sizes=5, random_state=1)\n",
    "\n",
    "#train the model\n",
    "clf_mlp.fit(digits_X_train, digits_y_train)\n",
    "\n",
    "#prediction\n",
    "prediction = clf.predict(digits_X_test)\n",
    "\n",
    "# present mlp accuracy in a confusion matrix\n",
    "metrics.plot_confusion_matrix(clf_mlp, digits_X_test, digits_y_test)\n",
    "plt.show()\n",
    "\n",
    "print(\"Mlp NN Classification accuracy report\\n\",\n",
    "    metrics.classification_report(digits_y_test, prediction)\n",
    ")"
   ]
  },
  {
   "cell_type": "markdown",
   "metadata": {
    "slideshow": {
     "slide_type": "subslide"
    }
   },
   "source": [
    "## Solution\n",
    "\n",
    "Please find one possible solution in [`solution_sklearn.py`](solution_sklearn.py) file."
   ]
  },
  {
   "cell_type": "code",
   "execution_count": 70,
   "metadata": {
    "slideshow": {
     "slide_type": "subslide"
    }
   },
   "outputs": [
    {
     "name": "stderr",
     "output_type": "stream",
     "text": [
      "/Users/Rico/opt/miniconda3/lib/python3.7/site-packages/sklearn/neural_network/_multilayer_perceptron.py:585: ConvergenceWarning: Stochastic Optimizer: Maximum iterations (200) reached and the optimization hasn't converged yet.\n",
      "  % self.max_iter, ConvergenceWarning)\n"
     ]
    },
    {
     "name": "stdout",
     "output_type": "stream",
     "text": [
      "Classification accuracy report\n",
      "               precision    recall  f1-score   support\n",
      "\n",
      "           0       0.92      0.95      0.93        58\n",
      "           1       0.93      0.86      0.89        59\n",
      "           2       0.84      0.96      0.90        50\n",
      "           3       0.88      0.89      0.89        57\n",
      "           4       0.77      0.91      0.83        47\n",
      "           5       0.91      0.74      0.82        58\n",
      "           6       0.98      0.98      0.98        56\n",
      "           7       0.80      0.77      0.79        53\n",
      "           8       0.84      0.84      0.84        51\n",
      "           9       0.80      0.76      0.78        51\n",
      "\n",
      "    accuracy                           0.87       540\n",
      "   macro avg       0.87      0.87      0.87       540\n",
      "weighted avg       0.87      0.87      0.87       540\n",
      "\n"
     ]
    },
    {
     "data": {
      "image/png": "[encoded data removed]",
      "text/plain": [
       "<Figure size 432x288 with 2 Axes>"
      ]
     },
     "metadata": {
      "needs_background": "light"
     },
     "output_type": "display_data"
    }
   ],
   "source": [
    "%run solution_sklearn.py"
   ]
  }
 ],
 "metadata": {
  "celltoolbar": "Slideshow",
  "kernelspec": {
   "display_name": "Python 3",
   "language": "python",
   "name": "python3"
  },
  "language_info": {
   "codemirror_mode": {
    "name": "ipython",
    "version": 3
   },
   "file_extension": ".py",
   "mimetype": "text/x-python",
   "name": "python",
   "nbconvert_exporter": "python",
   "pygments_lexer": "ipython3",
   "version": "3.7.6"
  }
 },
 "nbformat": 4,
 "nbformat_minor": 2
}
