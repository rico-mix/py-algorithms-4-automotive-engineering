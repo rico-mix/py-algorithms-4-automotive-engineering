{
 "cells": [
  {
   "cell_type": "code",
   "execution_count": 1,
   "metadata": {},
   "outputs": [
    {
     "name": "stdout",
     "output_type": "stream",
     "text": [
      "make slides for:  02_tools-and-packages/06_additional-packages.ipynb\n",
      "make slides for:  02_tools-and-packages/01_plot-packages.ipynb\n",
      "make slides for:  02_tools-and-packages/04_sympy.ipynb\n",
      "make slides for:  02_tools-and-packages/05_sklearn.ipynb\n",
      "make slides for:  02_tools-and-packages/02_numpy.ipynb\n",
      "make slides for:  02_tools-and-packages/03_scipy.ipynb\n",
      "make slides for:  02_tools-and-packages/00_tools-for-python.ipynb\n",
      "make slides for:  01_basic-python/06_modules.ipynb\n",
      "make slides for:  01_basic-python/01_semantics.ipynb\n",
      "make slides for:  01_basic-python/02_data-types.ipynb\n",
      "make slides for:  01_basic-python/04_functions.ipynb\n",
      "make slides for:  01_basic-python/00_syntax.ipynb\n",
      "make slides for:  01_basic-python/03_conditions-and-loops.ipynb\n",
      "make slides for:  01_basic-python/05_classes.ipynb\n",
      "make slides for:  03_software-development/02_sphinx.ipynb\n",
      "make slides for:  03_software-development/03_continuous-integration.ipynb\n",
      "make slides for:  03_software-development/00_git-github.ipynb\n",
      "make slides for:  03_software-development/04_clean-code.ipynb\n",
      "make slides for:  03_software-development/05_workflows.ipynb\n",
      "make slides for:  03_software-development/01_pytest.ipynb\n",
      "make slides for:  04_mini-projects/09_deepl.ipynb\n",
      "make slides for:  04_mini-projects/02_e-vehicle-powertrain-model.ipynb\n",
      "make slides for:  04_mini-projects/00_ode.ipynb\n",
      "make slides for:  04_mini-projects/01_vehicle-model-calibration.ipynb\n",
      "make slides for:  00_intro/01_py-installation.ipynb\n",
      "make slides for:  00_intro/00_intro.ipynb\n"
     ]
    }
   ],
   "source": [
    "import glob\n",
    "import subprocess\n",
    "\n",
    "\n",
    "for notebook in glob.glob(\"**/*.ipynb\"):\n",
    "    print(\"make slides for: \", notebook)\n",
    "    command = \"jupyter nbconvert \" + notebook + \" --to slides --SlidesExporter.reveal_scroll=True\"\n",
    "    subprocess.run(command, shell=True)\n",
    "\n"
   ]
  },
  {
   "cell_type": "code",
   "execution_count": null,
   "metadata": {},
   "outputs": [],
   "source": []
  }
 ],
 "metadata": {
  "kernelspec": {
   "display_name": "Python 3",
   "language": "python",
   "name": "python3"
  },
  "language_info": {
   "codemirror_mode": {
    "name": "ipython",
    "version": 3
   },
   "file_extension": ".py",
   "mimetype": "text/x-python",
   "name": "python",
   "nbconvert_exporter": "python",
   "pygments_lexer": "ipython3",
   "version": "3.7.6"
  }
 },
 "nbformat": 4,
 "nbformat_minor": 4
}
