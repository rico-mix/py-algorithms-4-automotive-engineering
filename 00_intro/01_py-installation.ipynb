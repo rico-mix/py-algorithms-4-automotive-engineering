{
 "cells": [
  {
   "cell_type": "markdown",
   "metadata": {
    "slideshow": {
     "slide_type": "slide"
    }
   },
   "source": [
    "[Table of contents](../toc.ipynb)\n",
    "\n",
    "# Python installation\n",
    "\n",
    "<img src=\"../_static/wires.jpg\" alt=\"Wires\" width=\"350\" align=\"right\">\n",
    "\n",
    "Before we are able to start with coding, we need some knowledge about Python installation."
   ]
  },
  {
   "cell_type": "markdown",
   "metadata": {
    "slideshow": {
     "slide_type": "subslide"
    }
   },
   "source": [
    "First, there is Python 2 and Python 3. The last Python 2 version is Python 2.7.17 and was released in October 2019. Official support for Python 2 has stopped on January 2020, [see this note](https://www.python.org/dev/peps/pep-0373/)."
   ]
  },
  {
   "cell_type": "markdown",
   "metadata": {
    "slideshow": {
     "slide_type": "subslide"
    }
   },
   "source": [
    "Python 3 was released in 2008, but it took quite some time to convert all libraries from Python 2 to Python 3.\n",
    "\n",
    "Some packages might still lack behind. If you need to learn how to convert Python 2 to Python 3, have a look [here](http://python3porting.com/bookindex.html).\n",
    "\n",
    "Anyway, we will focus on **Python 3**."
   ]
  },
  {
   "cell_type": "markdown",
   "metadata": {
    "slideshow": {
     "slide_type": "subslide"
    }
   },
   "source": [
    "## Pip vs Conda\n",
    "\n",
    "Luckily, Python is supported by package management and environment systems. These programs allow to define, share and resolve Python configurations. Hence, you can share your specific setup with someone very easily.\n",
    "\n",
    "<img src=\"packages.png\" alt=\"Pypi\" width=\"450\">"
   ]
  },
  {
   "cell_type": "markdown",
   "metadata": {
    "slideshow": {
     "slide_type": "subslide"
    }
   },
   "source": [
    "There are two major Python package installers: \n",
    "\n",
    "* [**Pip**](https://pypi.org/project/pip/)\n",
    "<img src=\"https://pypi.org/static/images/logo-large.72ad8bf1.svg\" alt=\"Pypi\" width=\"150\">\n",
    "\n",
    "* [**Conda**](https://docs.conda.io/en/latest/) \n",
    "<img src=\"https://raw.githubusercontent.com/conda/conda-docs/master/docs/source/img/conda_logo.svg?sanitize=true\" alt=\"Conda\" width=\"150\">\n",
    "\n",
    "* Pip is a lightweight Python only package manger.\n",
    "  * Pip covers packages from Python Package Index [**pypi**](https://pypi.org/).\n",
    "  * Pip does not support virtual environments out of the box (requires virtualenv or venv package).\n",
    "  * Pip does not check dependencies. Hence, you need to take more care when defining environments."
   ]
  },
  {
   "cell_type": "markdown",
   "metadata": {
    "slideshow": {
     "slide_type": "subslide"
    }
   },
   "source": [
    "* Conda is a general package manager (more than just Python) and a bit more heavy weight.\n",
    "  * Conda covers Python packages from [**Anaconda cloud**](https://repo.anaconda.com/pkgs/).\n",
    "  * Conda checks dependencies.\n",
    "  * Conda allows to install nearly all tools which are required for data science.\n",
    "\n",
    "* Let us start with Conda (Pip commands are very similar):"
   ]
  },
  {
   "cell_type": "markdown",
   "metadata": {
    "slideshow": {
     "slide_type": "subslide"
    }
   },
   "source": [
    "### Exercise: Install and try Miniconda (5 minutes)\n",
    "\n",
    "<img src=\"../_static/exercise.png\" alt=\"Exercise\" width=\"75\" align=\"left\">\n",
    "\n",
    "* There is a lightweight version of Conda, called Miniconda. Please install it from https://repo.anaconda.com/\n",
    "* Use `Miniconda3-latest-Windows-x86_64.exe` or `Miniconda3-latest-Linux-x86_64.sh`\n",
    "* On Windows, open a `Anaconda prompt`, just press `Win` key and type `anaconda prompt` to find it\n",
    "* Type `conda --version` to see if conda is installed"
   ]
  },
  {
   "cell_type": "markdown",
   "metadata": {
    "slideshow": {
     "slide_type": "subslide"
    }
   },
   "source": [
    "### Exercise: Learn Anaconda commands  (20 minutes)\n",
    "\n",
    "<img src=\"../_static/exercise.png\" alt=\"Exercise\" width=\"75\" align=\"left\">\n",
    "\n",
    "* Please follow the tutorial of Anaconda to learn how to work with environments: [bit.ly/tryconda](https://bit.ly/tryconda)\n",
    "* Take a look at [Coda cheat sheet](https://docs.conda.io/projects/conda/en/latest/user-guide/cheatsheet.html) to learn more conda commands"
   ]
  },
  {
   "cell_type": "markdown",
   "metadata": {
    "slideshow": {
     "slide_type": "subslide"
    }
   },
   "source": [
    "### Working with requirements files\n",
    "\n",
    "* It is very common to share a python environment through a `requirements.txt` file.\n",
    "* Souch a file could look like this\n",
    "\n",
    "Content of `requirements.txt`\n",
    "```\n",
    "python=3.6.2\n",
    "numpy\n",
    "```"
   ]
  },
  {
   "cell_type": "markdown",
   "metadata": {
    "slideshow": {
     "slide_type": "subslide"
    }
   },
   "source": [
    "### Exercise: Work with requirements.txt  (10 minutes)\n",
    "\n",
    "<img src=\"../_static/exercise.png\" alt=\"Exercise\" width=\"75\" align=\"left\">\n",
    "\n",
    "* Create a folder\n",
    "* Open ananconda prompt (or use pip) and navigate to this folder\n",
    "* Create a `requirements.txt` file with text from above\n",
    "* Create a virtual enviroment with `conda create -p .\\_venv --file requirements.txt`\n",
    "* Activate this environment\n",
    "* Check installed packages with `conda list` and `python --version`\n",
    "* Add `matplotlib` to list in `requirements.txt`\n",
    "* Install new package with `conda install --file requirements.txt`"
   ]
  },
  {
   "cell_type": "markdown",
   "metadata": {
    "slideshow": {
     "slide_type": "subslide"
    }
   },
   "source": [
    "### Conda channels and the .condarc file\n",
    "\n",
    "* Conda packages are organized in channels\n",
    "* For instance, the widely used sklearn package is hosted in anaconda channel, not in default channel\n",
    "\n",
    "### Exercise: Work with channels  (5 minutes)\n",
    "\n",
    "<img src=\"../_static/exercise.png\" alt=\"Exercise\" width=\"75\" align=\"left\">\n",
    "\n",
    "* Try to install sklearn in your latest environment with `conda install scikit-learn`\n",
    "* If it fails with `PackagesNotFoundError`\n",
    "   * Find sklearn in [https://anaconda.org/anaconda/scikit-learn](https://anaconda.org/anaconda/scikit-learn)\n",
    "   * Use conda install with channnel `conda install -c anaconda scikit-learn`\n",
    "* Add this channel to `.condarc file` with `conda config --add channels anaconda`\n",
    "* View `.condarc` file in your user home directory"
   ]
  },
  {
   "cell_type": "markdown",
   "metadata": {
    "slideshow": {
     "slide_type": "subslide"
    }
   },
   "source": [
    "### Exercise: Take a look at Pip docu (5 minutes)\n",
    "\n",
    "<img src=\"../_static/exercise.png\" alt=\"Exercise\" width=\"75\" align=\"left\">\n",
    "\n",
    "* Please open the [documentation of Pip](https://packaging.python.org/tutorials/installing-packages/) and compare the commands between Conda and Pip\n",
    "* Try `python --version` and `pip --version` commands in a terminal"
   ]
  },
  {
   "cell_type": "markdown",
   "metadata": {
    "slideshow": {
     "slide_type": "slide"
    }
   },
   "source": [
    "# Play with Python\n",
    "\n",
    "Now that we have a running Python installation, we can start to run some Python code.\n",
    "\n",
    "* The Python interpreter can be entered with `python`\n",
    "* Each line starts now with `>>>`\n",
    "* Exit to normal shell with `exit()`\n",
    "\n",
    "<img src=\"https://www.python.org/static/community_logos/python-logo-master-v3-TM.png\" alt=\"Python\" width=\"350\">"
   ]
  },
  {
   "cell_type": "markdown",
   "metadata": {
    "slideshow": {
     "slide_type": "subslide"
    }
   },
   "source": [
    "### Exercise: Python (2 minutes)\n",
    "\n",
    "<img src=\"../_static/exercise.png\" alt=\"Exercise\" width=\"75\" align=\"left\">\n",
    "\n",
    "* Activate your environment (if not done yet)\n",
    "* Type `python`\n",
    "* Type `print(\"hello world\")`\n",
    "* Type `a = 1`\n",
    "* Type `b = 3`\n",
    "* Type `c = a + b`\n",
    "* Type `print(c)`\n",
    "* Go to shell with `exit()`\n",
    "\n",
    "<img src=\"python-exercise.png\" alt=\"Python exercise\" width=\"600\" align=\"left\">"
   ]
  },
  {
   "cell_type": "markdown",
   "metadata": {
    "slideshow": {
     "slide_type": "subslide"
    }
   },
   "source": [
    "### IPython\n",
    "\n",
    "Although we could directly use Python now after this installation in a terminal, it is more convenient to use [IPython](https://ipython.readthedocs.io/en/stable/overview.html), which is a powerfull interactive Python shell. IPython is an enhanced interactive Python shell which supports\n",
    "\n",
    "* Tab completion\n",
    "* Object introspection\n",
    "* System shell access\n",
    "* Searching through modules and namespaces with `*` wildcards\n",
    "* ...\n",
    "\n",
    "<img src=\"https://ipython.org/_static/IPy_header.png\" width=\"300\">"
   ]
  },
  {
   "cell_type": "markdown",
   "metadata": {
    "slideshow": {
     "slide_type": "subslide"
    }
   },
   "source": [
    "### Exercise: IPython (2 minutes)\n",
    "\n",
    "<img src=\"../_static/exercise.png\" alt=\"Exercise\" width=\"75\" align=\"left\">\n",
    "\n",
    "* Install ipython in your environment with `conda install ipython`\n",
    "* Open ipython with `ipython`\n",
    "* Type `print(\"hello world\")`\n",
    "* Exit ipython with `quit`\n",
    "\n",
    "<img src=\"ipython-exercise.png\" alt=\"IPython exercise\" width=\"600\" align=\"left\">"
   ]
  },
  {
   "cell_type": "markdown",
   "metadata": {
    "slideshow": {
     "slide_type": "subslide"
    }
   },
   "source": [
    "### Run Python files\n",
    "\n",
    "The interactive Python shells are convenient for small experiments but we need to learn how to run longer series of Python commands from Python files.\n",
    "\n",
    "The default Python file extension is `.py` and here is the content of a `test.py` file.\n",
    "\n",
    "```python\n",
    "# file test.py\n",
    "\n",
    "for i in range(9):\n",
    "    print(\"Hello world times\", i)\n",
    "```\n",
    "\n",
    "What does this script?"
   ]
  },
  {
   "cell_type": "markdown",
   "metadata": {
    "slideshow": {
     "slide_type": "subslide"
    }
   },
   "source": [
    "### Exercise: Run a Python script (2 minutes)\n",
    "\n",
    "<img src=\"../_static/exercise.png\" alt=\"Exercise\" width=\"75\" align=\"left\">\n",
    "\n",
    "* Run `test.py` with `python test.py` (note that we are in shell not in python interpreter)\n",
    "* Enter IPython with `ipython`\n",
    "* Run the file again with `%run test.py`\n",
    "\n",
    "<img src=\"python-script.png\" alt=\"Python script\" width=\"600\" align=\"left\">"
   ]
  }
 ],
 "metadata": {
  "celltoolbar": "Slideshow",
  "kernelspec": {
   "display_name": "Python 3",
   "language": "python",
   "name": "python3"
  },
  "language_info": {
   "codemirror_mode": {
    "name": "ipython",
    "version": 3
   },
   "file_extension": ".py",
   "mimetype": "text/x-python",
   "name": "python",
   "nbconvert_exporter": "python",
   "pygments_lexer": "ipython3",
   "version": "3.7.6"
  },
  "toc": {
   "base_numbering": 1,
   "nav_menu": {},
   "number_sections": true,
   "sideBar": true,
   "skip_h1_title": false,
   "title_cell": "Table of Contents",
   "title_sidebar": "Contents",
   "toc_cell": false,
   "toc_position": {},
   "toc_section_display": true,
   "toc_window_display": false
  },
  "varInspector": {
   "cols": {
    "lenName": 16,
    "lenType": 16,
    "lenVar": 40
   },
   "kernels_config": {
    "python": {
     "delete_cmd_postfix": "",
     "delete_cmd_prefix": "del ",
     "library": "var_list.py",
     "varRefreshCmd": "print(var_dic_list())"
    },
    "r": {
     "delete_cmd_postfix": ") ",
     "delete_cmd_prefix": "rm(",
     "library": "var_list.r",
     "varRefreshCmd": "cat(var_dic_list()) "
    }
   },
   "types_to_exclude": [
    "module",
    "function",
    "builtin_function_or_method",
    "instance",
    "_Feature"
   ],
   "window_display": false
  }
 },
 "nbformat": 4,
 "nbformat_minor": 2
}
