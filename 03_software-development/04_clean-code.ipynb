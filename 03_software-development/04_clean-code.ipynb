{
 "cells": [
  {
   "cell_type": "code",
   "execution_count": 1,
   "metadata": {
    "slideshow": {
     "slide_type": "skip"
    }
   },
   "outputs": [],
   "source": [
    "%matplotlib inline"
   ]
  },
  {
   "cell_type": "markdown",
   "metadata": {
    "slideshow": {
     "slide_type": "slide"
    }
   },
   "source": [
    "[Table of contents](../toc.ipynb)\n",
    "\n",
    "# Clean Code\n",
    "\n",
    "<a href=\"https://www.oreilly.com/library/view/clean-code/9780136083238/\"><img src=\"https://www.oreilly.com/library/cover/9780136083238/250w/\" alt=\"Clean Code\" width=\"100\" align=\"right\"></a>\n",
    "\n",
    "Clean code is a book and a set of coding principles by Robert C. Martin [[Martin2008]](../references.bib), aka [Uncle Bob](https://blog.cleancoder.com/). \n",
    "\n",
    "Clean Code aims to foster coding skills of developers for high quality software development.\n",
    "\n",
    "The coding principles of this book influenced several software developer initiatives like the [Software Craftsmanship](https://en.wikipedia.org/wiki/Software_craftsmanship) movement.\n",
    "\n",
    "The goal of his books is to teach everyone to write beautiful code, which is code that is:\n",
    "* good and easy to read,\n",
    "* easy to test,\n",
    "* easy to reuse,\n",
    "* easy to modify."
   ]
  },
  {
   "cell_type": "markdown",
   "metadata": {
    "slideshow": {
     "slide_type": "subslide"
    }
   },
   "source": [
    "**In one sentence, clean code is one method to to reduce [technical debt](https://en.wikipedia.org/wiki/Technical_debt).** Please consult the book [[Kruchten2019]](./references.bib) to learn how to deal with technical debt in software development."
   ]
  },
  {
   "cell_type": "markdown",
   "metadata": {
    "slideshow": {
     "slide_type": "subslide"
    }
   },
   "source": [
    "## More references\n",
    "\n",
    "Before we dive into clean code principles, I'd like to point you to some additional references for further study.\n",
    "\n",
    "Next to clean code book [[Martin2008]](../references.bib), there is an entire series of books from Martin to help you to become a better developer: *Clean Architecture* [[Martin2018]](../references.bib), *Clean Coder* [[Martin2011]](../references.bib)).\n",
    "\n",
    "A short summary of clean code is to find in a [clean code cheat sheet](https://www.planetgeek.ch/wp-content/uploads/2014/11/Clean-Code-V2.4.pdf).\n",
    "\n",
    "There are many other great books that teach you to write clean code, for instance *The Pragmatic Programmer: From Journeyman to Master* [[Hunt2019]](../references.bib), or *Clean Code in Python - Refactor Your Legacy Code Base* [[Anay2018]](../references.bib)."
   ]
  },
  {
   "cell_type": "markdown",
   "metadata": {
    "slideshow": {
     "slide_type": "slide"
    }
   },
   "source": [
    "# Clean Code principles\n",
    "\n",
    "First, let us have a look at three quotes to introduce clean code."
   ]
  },
  {
   "cell_type": "markdown",
   "metadata": {
    "slideshow": {
     "slide_type": "subslide"
    }
   },
   "source": [
    "## Quote one\n",
    "\n",
    "\"*Writing clean code is what you must do in order to call yourself a professional. There is no reasonable excuse for doing anything less than your best*\" [[Martin2008]](../references.bib)."
   ]
  },
  {
   "cell_type": "markdown",
   "metadata": {
    "slideshow": {
     "slide_type": "subslide"
    }
   },
   "source": [
    "## Quote two\n",
    "\n",
    "\"*Programming is the art of telling another human being what one wants the computer to do.*\" \\[Donald Knuth\\]"
   ]
  },
  {
   "cell_type": "markdown",
   "metadata": {
    "slideshow": {
     "slide_type": "subslide"
    }
   },
   "source": [
    "## Quote three\n",
    "\n",
    "\"*Computers are good at following instructions, but not at reading your mind.*\" \\[Donald Knuth\\]"
   ]
  },
  {
   "cell_type": "markdown",
   "metadata": {
    "slideshow": {
     "slide_type": "subslide"
    }
   },
   "source": [
    "Almost anything what follows can be derived from the quotes of Donald Knuth. Just keep in mind that you write code for another human, not for the computer and humans spend most time for reading code not for writing code in larger software projects."
   ]
  },
  {
   "cell_type": "markdown",
   "metadata": {
    "slideshow": {
     "slide_type": "subslide"
    }
   },
   "source": [
    "## Clean Code in a nutshell\n",
    "\n",
    "Now that we know that code is written for humans, the following list of main principles in clean code should make sense. This list is not comprehensive but contains my favorites."
   ]
  },
  {
   "cell_type": "markdown",
   "metadata": {
    "slideshow": {
     "slide_type": "subslide"
    }
   },
   "source": [
    "### Use meaningful names.\n",
    "* This is true for all layers of code. Please use meaningful names for folders, classes, functions, variables, tests...\n",
    "* Meaningful names are for instance very handy if you start to search for something within a large project."
   ]
  },
  {
   "cell_type": "markdown",
   "metadata": {
    "slideshow": {
     "slide_type": "subslide"
    }
   },
   "source": [
    "### Functions should:\n",
    "* **be small**,\n",
    "* **do one thing**,\n",
    "* use descriptive names,\n",
    "* have no side effects,\n",
    "* have not more than three arguments (best is zero).\n",
    "\n",
    "Methods in class can be treated similarly to functions. And **classes** should be small as well."
   ]
  },
  {
   "cell_type": "markdown",
   "metadata": {
    "slideshow": {
     "slide_type": "subslide"
    }
   },
   "source": [
    "### Do not repeat yourself! \n",
    "\n",
    "* Avoid redundant code. \n",
    "* Reuse code instead.\n",
    "\n",
    "If you start to repeat yourself, you will end up with something which is known as [Spaghetti code](https://en.wikipedia.org/wiki/Spaghetti_code)."
   ]
  },
  {
   "cell_type": "markdown",
   "metadata": {
    "slideshow": {
     "slide_type": "subslide"
    }
   },
   "source": [
    "### Comments do not heal bad code.\n",
    "\n",
    "Comments are often outdated compared with the code itself. Instead of using comments, try to express yourself in the code! Fewer is better here.\n",
    "\n",
    "**Good comments are**\n",
    "* informative,\n",
    "* explain the intention why something has been made,\n",
    "* warn of consequences,\n",
    "* list ToDos.\n",
    "\n",
    "**Bad comments are**\n",
    "* redundant,\n",
    "* misleading, outdated, or simply wrong,\n",
    "* comments that comment out code."
   ]
  },
  {
   "cell_type": "markdown",
   "metadata": {
    "slideshow": {
     "slide_type": "subslide"
    }
   },
   "source": [
    "### Use good readable formatting!\n",
    "\n",
    "Well you are in a Python course, so if you follow PEP 8 -- Style Guide for Python Code [[PEP8]](../references.bib) your code will be superior readable from a formatting point of view.\n",
    "\n",
    "Formatting means vertical and horizontal space. In spite of other languages, Python was designed with formatting in mind. So you should be fine with this principle by default."
   ]
  },
  {
   "cell_type": "markdown",
   "metadata": {
    "slideshow": {
     "slide_type": "subslide"
    }
   },
   "source": [
    "## \"Why clean code, we have Continuous Integration!\"\n",
    "\n",
    "Yes you can and should automate whenever possible and hence you can automate static code analysis tests, and linting. But clean code is more than linted code.\n",
    "\n",
    "Clean code is good readable and maintainable. Note that roughly 80% of time is required for developers to read code. Hence, a linter can tell you that a variable should have lower case letters only, but it can not suggest a meaningful variable name.\n",
    "\n",
    "Therefore, **if you automate a mess, you get automated mess**."
   ]
  },
  {
   "cell_type": "markdown",
   "metadata": {
    "slideshow": {
     "slide_type": "subslide"
    }
   },
   "source": [
    "<a title=\"CC BY 3.0 by Geek and Poke\" href=\"http://geek-and-poke.com/geekandpoke/2010/9/7/how-to-ensure-quality.html\"><img width=\"350\" height=\"300\" alt=\"version control\" src=\"http://s3.media.squarespace.com/production/2129687/19317774/.a/6a00d8341d3df553ef0133f3fe2e20970b-800wi\" align=\"right\"></a>\n",
    "\n",
    "## Beyond Clean Code\n",
    "\n",
    "Clean Code contributes to software quality but clean code is not enough to ensure high software quality. \n",
    "\n",
    "On a higher level, you need **clean architecture, clean tests, clean design, and even clean organization** as well to develop a product on high quality.\n",
    "\n",
    "An example of a not so well defined organization is if subtasks of a product like implementation, testing, and marketing are dispersed over different business units which do not communicate with each other. \n",
    "\n",
    "Think about the mess which comes up if the product manage from unit A sells a feature which is not yet developed in unit B and which will be forgotten to test in unit C. This **organizational mess will cause a messy product**."
   ]
  },
  {
   "cell_type": "markdown",
   "metadata": {
    "slideshow": {
     "slide_type": "slide"
    }
   },
   "source": [
    "# Clean Code example\n",
    "\n",
    "We will take a look at a typical Python script of an engineering task and start with a version, which violates as much as possible clean code principles.\n",
    "\n",
    "The next steps are small code improvements to transform the code into clean code and this work is known as **refactoring** in software engineering. [Refactoring](https://en.wikipedia.org/wiki/Code_refactoring) is nothing else than improvements of the code without any changed functionality. Therefore, refactoring improves the code smell and reduces technical debt."
   ]
  },
  {
   "cell_type": "markdown",
   "metadata": {
    "slideshow": {
     "slide_type": "fragment"
    }
   },
   "source": [
    "The fact that refactoring does not change or add functionality **can be a source of conflicts** if quantity of delivered features is more important than quality. If you end up in a project that does not preserve development time for refactoring, technical debt will increase and quality of software will rot.\n",
    "\n",
    "Now let us take a look at the example script and try to read it."
   ]
  },
  {
   "cell_type": "code",
   "execution_count": 2,
   "metadata": {
    "slideshow": {
     "slide_type": "subslide"
    }
   },
   "outputs": [
    {
     "data": {
      "text/plain": [
       "[<matplotlib.lines.Line2D at 0x121798bd0>]"
      ]
     },
     "execution_count": 2,
     "metadata": {},
     "output_type": "execute_result"
    },
    {
     "data": {
      "image/png": "[encoded data removed]",
      "text/plain": [
       "<Figure size 432x288 with 1 Axes>"
      ]
     },
     "metadata": {
      "needs_background": "light"
     },
     "output_type": "display_data"
    },
    {
     "data": {
      "image/png": "[encoded data removed]",
      "text/plain": [
       "<Figure size 432x288 with 1 Axes>"
      ]
     },
     "metadata": {
      "needs_background": "light"
     },
     "output_type": "display_data"
    },
    {
     "data": {
      "image/png": "[encoded data removed]",
      "text/plain": [
       "<Figure size 432x288 with 1 Axes>"
      ]
     },
     "metadata": {
      "needs_background": "light"
     },
     "output_type": "display_data"
    },
    {
     "data": {
      "image/png": "[encoded data removed]",
      "text/plain": [
       "<Figure size 432x288 with 1 Axes>"
      ]
     },
     "metadata": {
      "needs_background": "light"
     },
     "output_type": "display_data"
    }
   ],
   "source": [
    "# %load bad_smelling_code.py\n",
    "import numpy as np;import matplotlib.pyplot as plt\n",
    "x=np.arange(0,10,0.2);y=np.sin(x)\n",
    "plt.figure();plt.plot(x,y,'r')\n",
    "plt.figure();plt.plot(x,y+np.random.randn(len(x)),'b')\n",
    "z=np.sin(x)+3.0\n",
    "plt.figure();plt.plot(x,z,'r')\n",
    "plt.figure();plt.plot(x,z+np.random.randn(len(x)),'b')"
   ]
  },
  {
   "cell_type": "markdown",
   "metadata": {
    "slideshow": {
     "slide_type": "subslide"
    }
   },
   "source": [
    "I did my best to write the poorest Python script ever. Let us try to read the code, because we know now that code is actually written for humans not for the computer.\n",
    "\n",
    "```python\n",
    "import numpy as np;import matplotlib.pyplot as plt\n",
    "x=np.arange(0,10,0.2);y=np.sin(x)\n",
    "plt.figure();plt.plot(x,y,'r')\n",
    "plt.figure();plt.plot(x,y+np.random.randn(len(x)),'b')\n",
    "z=np.sin(x)+3.0\n",
    "plt.figure();plt.plot(x,z,'r')\n",
    "plt.figure();plt.plot(x,z+np.random.randn(len(x)),'b')\n",
    "```\n",
    "\n",
    "First, it is very hard to read because indentation and whitespace is missing. But if you take your time you will see that the script does not that much. It just generates data, does a plot, does another plot, generates nearly the same data, does a similar plot, and finally, plot this data with noise once more.\n",
    "\n",
    "I hope you get a bit tired form reading this script and also get bored, because stuff repeats and copy and paste was used a lot."
   ]
  },
  {
   "cell_type": "markdown",
   "metadata": {
    "slideshow": {
     "slide_type": "subslide"
    }
   },
   "source": [
    "## Refactoring\n",
    "\n",
    "We will change now the coding style to end up with a better code smell without changing the functionality of the code."
   ]
  },
  {
   "cell_type": "markdown",
   "metadata": {
    "slideshow": {
     "slide_type": "subslide"
    }
   },
   "source": [
    "### Formatting\n",
    "\n",
    "One Clean Code principle was to use good formatting. Let us add horizontal and vertical white space to improve readability and give this script more structure."
   ]
  },
  {
   "cell_type": "markdown",
   "metadata": {
    "slideshow": {
     "slide_type": "subslide"
    }
   },
   "source": [
    "```python\n",
    "import matplotlib.pyplot as plt\n",
    "import numpy as np\n",
    "\n",
    "x = np.arange(0, 10, 0.2)\n",
    "y = np.sin(x)\n",
    "\n",
    "plt.figure()\n",
    "plt.plot(x, y, 'r')\n",
    "\n",
    "plt.figure()\n",
    "plt.plot(x, y + np.random.randn(len(x)), 'b')\n",
    "\n",
    "z = np.sin(x) + 3.0\n",
    "\n",
    "plt.figure()\n",
    "plt.plot(x, z, 'r')\n",
    "\n",
    "plt.figure()\n",
    "plt.plot(x, z + np.random.randn(len(x)), 'b')\n",
    "```"
   ]
  },
  {
   "cell_type": "markdown",
   "metadata": {
    "slideshow": {
     "slide_type": "subslide"
    }
   },
   "source": [
    "The additional horizontal white space makes the code easier to read.\n",
    "\n",
    "Although there are now more lines of code, the additional vertical white space helps to discover redundant code. All the plot commands are very similar and can be written as function."
   ]
  },
  {
   "cell_type": "markdown",
   "metadata": {
    "slideshow": {
     "slide_type": "subslide"
    }
   },
   "source": [
    "### Do not repeat yourself!\n",
    "\n",
    "We will use now a function to program all the plots and to avoid copy and paste of code as much as possible."
   ]
  },
  {
   "cell_type": "markdown",
   "metadata": {
    "slideshow": {
     "slide_type": "subslide"
    }
   },
   "source": [
    "```python\n",
    "import matplotlib.pyplot as plt\n",
    "import numpy as np\n",
    "\n",
    "\n",
    "def my_plot(x, y):\n",
    "    plt.figure()\n",
    "    plt.plot(x, y, 'r')\n",
    "    plt.figure()\n",
    "    plt.plot(x, y + np.random.randn(len(x)), 'b')\n",
    "\n",
    "\n",
    "x = np.arange(0, 10, 0.2)\n",
    "y = np.sin(x)\n",
    "z = np.sin(x) + 3.0\n",
    "\n",
    "my_plot(x, y)\n",
    "my_plot(x, z)\n",
    "```"
   ]
  },
  {
   "cell_type": "markdown",
   "metadata": {
    "slideshow": {
     "slide_type": "subslide"
    }
   },
   "source": [
    "Now the script has tree sections: a plot part, some code which generates data, and the section where the plot is called twice."
   ]
  },
  {
   "cell_type": "markdown",
   "metadata": {
    "slideshow": {
     "slide_type": "subslide"
    }
   },
   "source": [
    "### Use meaningful names\n",
    "\n",
    "Please have a look at this version, where the variable names are more descriptive."
   ]
  },
  {
   "cell_type": "markdown",
   "metadata": {
    "slideshow": {
     "slide_type": "subslide"
    }
   },
   "source": [
    "```python\n",
    "import matplotlib.pyplot as plt\n",
    "import numpy as np\n",
    "\n",
    "\n",
    "def my_plot(time, values, noise):\n",
    "    plt.figure()\n",
    "    plt.plot(time, values, 'r')\n",
    "    plt.figure()\n",
    "    plt.plot(time, values + noise, 'b')\n",
    "\n",
    "\n",
    "TIME = np.arange(0, 10, 0.2)\n",
    "VAL = np.sin(TIME)\n",
    "VAL2 = np.sin(TIME) + 3.0\n",
    "\n",
    "my_plot(time=TIME, values=VAL, noise=np.random.randn(len(TIME)))\n",
    "my_plot(time=TIME, values=VAL2, noise=np.random.randn(len(TIME)))\n",
    "```"
   ]
  },
  {
   "cell_type": "markdown",
   "metadata": {
    "slideshow": {
     "slide_type": "subslide"
    }
   },
   "source": [
    "Now, even without a single comment or description in the code it is obvious that the `my_plot` function takes now three arguments, which are called `time`, `values`, `noise`. The difference in the two times called plot is in the passed values.\n",
    "\n",
    "We can even improve the noise generation with a small function."
   ]
  },
  {
   "cell_type": "markdown",
   "metadata": {
    "slideshow": {
     "slide_type": "subslide"
    }
   },
   "source": [
    "```python\n",
    "import matplotlib.pyplot as plt\n",
    "import numpy as np\n",
    "\n",
    "\n",
    "def my_plot(time, values):\n",
    "    plt.figure()\n",
    "    plt.plot(time, values, 'r')\n",
    "    plt.figure()\n",
    "    plt.plot(time, add_noise_to(values), 'b')\n",
    "    \n",
    "    \n",
    "def add_noise_to(values):\n",
    "    return values + np.random.randn(len(values))\n",
    "\n",
    "\n",
    "TIME = np.arange(0, 10, 0.2)\n",
    "VAL = np.sin(TIME)\n",
    "VAL2 = np.sin(TIME) + 3.0\n",
    "\n",
    "my_plot(time=TIME, values=VAL)\n",
    "my_plot(time=TIME, values=VAL2)\n",
    "```"
   ]
  },
  {
   "cell_type": "markdown",
   "metadata": {
    "slideshow": {
     "slide_type": "subslide"
    }
   },
   "source": [
    "And finally, the lines of code which create the sine functions can also be written as small functions. This makes the plot function more general because other functions could be passed now as well."
   ]
  },
  {
   "cell_type": "markdown",
   "metadata": {
    "slideshow": {
     "slide_type": "subslide"
    }
   },
   "source": [
    "```python\n",
    "import matplotlib.pyplot as plt\n",
    "import numpy as np\n",
    "\n",
    "\n",
    "def my_plot(time, func):\n",
    "    plt.figure()\n",
    "    plt.plot(time, func(time), 'r')\n",
    "    plt.figure()\n",
    "    plt.plot(time, add_noise_to(func(time)), 'b')\n",
    "\n",
    "\n",
    "def sine_wave(time): \n",
    "    return np.sin(time)\n",
    "\n",
    "\n",
    "def biased_sine_wave(time): \n",
    "    return sine_wave(time) + 3.0\n",
    "\n",
    "\n",
    "def add_noise_to(values):\n",
    "    return values + np.random.randn(len(values))\n",
    "\n",
    "\n",
    "TIME = np.arange(0, 10, 0.2)\n",
    "\n",
    "my_plot(time=TIME, func=sine_wave)\n",
    "my_plot(time=TIME, func=biased_sine_wave)\n",
    "```"
   ]
  },
  {
   "cell_type": "markdown",
   "metadata": {
    "slideshow": {
     "slide_type": "subslide"
    }
   },
   "source": [
    "This last version with simple functions is easy to read, easy to test, and simple to extend. Although the number of code lines grew, I would prefer this solution instead of the [bad_smelling_code](./bad_smelling_code.py) file."
   ]
  },
  {
   "cell_type": "markdown",
   "metadata": {
    "slideshow": {
     "slide_type": "subslide"
    }
   },
   "source": [
    "## Tools to rate code smell\n",
    "\n",
    "You can use [flake8](https://pypi.org/project/flake8/), [pylint](https://www.pylint.org/), and of course inbuilt features of IDEs like Pycharm to rate the code smell automatically. These static code analysis cannot detect all bad programming parts but most of common mistakes.\n",
    "\n",
    "We will use `flake8` and `pylint` in a small exercise to see what this static code analysis returns."
   ]
  },
  {
   "cell_type": "markdown",
   "metadata": {
    "slideshow": {
     "slide_type": "subslide"
    }
   },
   "source": [
    "### Exercise:  `flake8` and `pylint` (3 minutes)\n",
    "\n",
    "<img src=\"../_static/exercise.png\" alt=\"Exercise\" width=\"75\" align=\"left\">\n",
    "\n",
    "* Download the file [bad_smelling_code](./bad_smelling_code.py).\n",
    "* Run in terminal `pylint bad_smelling_code.py`.\n",
    "* Also use flake8 with `flake8 bad_smelling_code.py`."
   ]
  },
  {
   "cell_type": "markdown",
   "metadata": {
    "slideshow": {
     "slide_type": "subslide"
    }
   },
   "source": [
    "### Result\n",
    "\n",
    "My run of `pylint` returned a lot of problems and rated the code at \n",
    "> ------------------------------------\n",
    "> Your code has been rated at -7.69/10\n",
    "\n",
    "Minus 7.69 is just horrible!\n",
    "\n",
    "So, you can save a lot of time (reading terrible code) if you apply static code analysis in your project."
   ]
  }
 ],
 "metadata": {
  "celltoolbar": "Slideshow",
  "kernelspec": {
   "display_name": "Python 3",
   "language": "python",
   "name": "python3"
  },
  "language_info": {
   "codemirror_mode": {
    "name": "ipython",
    "version": 3
   },
   "file_extension": ".py",
   "mimetype": "text/x-python",
   "name": "python",
   "nbconvert_exporter": "python",
   "pygments_lexer": "ipython3",
   "version": "3.7.6"
  },
  "toc": {
   "base_numbering": 1,
   "nav_menu": {},
   "number_sections": true,
   "sideBar": true,
   "skip_h1_title": false,
   "title_cell": "Table of Contents",
   "title_sidebar": "Contents",
   "toc_cell": false,
   "toc_position": {},
   "toc_section_display": true,
   "toc_window_display": true
  },
  "varInspector": {
   "cols": {
    "lenName": 16,
    "lenType": 16,
    "lenVar": 40
   },
   "kernels_config": {
    "python": {
     "delete_cmd_postfix": "",
     "delete_cmd_prefix": "del ",
     "library": "var_list.py",
     "varRefreshCmd": "print(var_dic_list())"
    },
    "r": {
     "delete_cmd_postfix": ") ",
     "delete_cmd_prefix": "rm(",
     "library": "var_list.r",
     "varRefreshCmd": "cat(var_dic_list()) "
    }
   },
   "types_to_exclude": [
    "module",
    "function",
    "builtin_function_or_method",
    "instance",
    "_Feature"
   ],
   "window_display": false
  }
 },
 "nbformat": 4,
 "nbformat_minor": 2
}
