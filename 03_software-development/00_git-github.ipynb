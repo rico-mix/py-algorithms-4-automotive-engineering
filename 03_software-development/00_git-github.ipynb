{
 "cells": [
  {
   "cell_type": "code",
   "execution_count": 1,
   "metadata": {
    "slideshow": {
     "slide_type": "skip"
    }
   },
   "outputs": [],
   "source": [
    "# Required to load webpages\n",
    "from IPython.display import IFrame"
   ]
  },
  {
   "cell_type": "markdown",
   "metadata": {
    "slideshow": {
     "slide_type": "slide"
    }
   },
   "source": [
    "[Table of contents](../toc.ipynb)\n",
    "\n",
    "# Why version control?\n",
    "\n",
    "If you never have heard of version control, you might be familiar with a working mode which is shown in this carton posted by geek and poke.\n",
    "\n",
    "<a title=\"CC BY 3.0 by Geek and Poke\" href=\"http://geek-and-poke.com/geekandpoke/2012/11/3/simply-explained.html\"><img width=\"350\" alt=\"version control\" src=\"http://s3.media.squarespace.com/production/2129687/19317774/.a/6a00d8341d3df553ef017c330f2ae8970b-800wi\"></a>\n",
    "\n",
    "If this looks familiar to you, learn git and become professional."
   ]
  },
  {
   "cell_type": "markdown",
   "metadata": {
    "slideshow": {
     "slide_type": "subslide"
    }
   },
   "source": [
    "## Version control with git\n",
    "\n",
    "<img src=\"https://raw.githubusercontent.com/gilbarbara/logos/master/logos/git.svg?sanitize=true\" alt=\"git\" width=\"150\" align=\"right\">\n",
    "\n",
    "Version control is one fundamental pillar in each software development project. There is no excuse to omit version control!\n",
    "\n",
    "Next to other version control systems like svn, [git](https://git-scm.com/) is the most popular and most prominent tool right now. Its main advantage is the **powerful branch and merge concept**, which **allows to develop software simultaneously and distributed**.\n",
    "\n",
    "Please find a much deeper feature description of git either on wikipedia [https://en.wikipedia.org/wiki/Git](https://en.wikipedia.org/wiki/Git) or in the git docu [https://git-scm.com/about](https://git-scm.com/about)."
   ]
  },
  {
   "cell_type": "markdown",
   "metadata": {
    "slideshow": {
     "slide_type": "subslide"
    }
   },
   "source": [
    "There are different working styles in git controlled projects. These different styles are called branching models and the `master - feature branch` concept is a simple concept you can use for smaller projects. Please find here a picture of a git master feature branch network.\n",
    "\n",
    "The black solid line is the master and the shorter colored lines are feature branches which provide changed versions of the master. Each bullet is a commit.\n",
    "\n",
    "<img src=\"git_network.png\" alt=\"git\" width=\"700\">"
   ]
  },
  {
   "cell_type": "markdown",
   "metadata": {
    "slideshow": {
     "slide_type": "subslide"
    }
   },
   "source": [
    "## Learn git in ten minutes\n",
    "\n",
    "As pre-note, there is one superior git training web page [https://learngitbranching.js.org/](https://learngitbranching.js.org/) you should check out.\n",
    "\n",
    "Next we want to try to learn some basics of git in a couple of minutes."
   ]
  },
  {
   "cell_type": "markdown",
   "metadata": {
    "slideshow": {
     "slide_type": "subslide"
    }
   },
   "source": [
    "Git can either be used in terminal or through many GUIs like [git for windows](https://gitforwindows.org/), [sourcetree](https://www.sourcetreeapp.com/), [gitkraken](https://www.gitkraken.com/).\n",
    "\n",
    "As there is so much training material to find in the web (see links in a few slides), we will just briefly take a look at some git commands.\n",
    "\n",
    "* `git --version` returns the version of your git. If this command fails, [install git first](https://git-scm.com/downloads).\n",
    "* `git init <directory>` initializes a folder as git repository.\n",
    "* `git clone <repo>` clones a repository for instance from GitHub on your computer.\n",
    "* `git add <files or A for all>` stages specific files or all for next commit.\n",
    "* `git commit -m \"<message>\"` commits all staged files with a commit message.\n",
    "* `git fetch` fetches changes from remote, for instance new branches.\n",
    "* `git pull` pulls changes form current branch on your computer.\n",
    "* `git push` pushes your local changes to remote on same branch.\n",
    "* `git checkout -b <branch>` checkout `<branch>` from remote on your computer.\n",
    "* `git status` lists staged or modified files.\n",
    "* `git log` displays git history.\n",
    "* `git merge <branch>` merges `<branch>` into you current branch.\n",
    "* `git revert <commit id>` reverts a specific commit."
   ]
  },
  {
   "cell_type": "markdown",
   "metadata": {
    "slideshow": {
     "slide_type": "subslide"
    }
   },
   "source": [
    "## Exercise:  git (5 minutes)\n",
    "\n",
    "<img src=\"../_static/exercise.png\" alt=\"Exercise\" width=\"75\" align=\"left\">\n",
    "\n",
    "Please follow these steps to become familiar with some common git commands.\n",
    "\n",
    "* Create a folder and navigate with your terminal to this folder.\n",
    "* Type `git init` to initialize the git repository.\n",
    "* Type `git status` multiple times between next steps to see what is going on.\n",
    "* Create a file called `file.txt` with the text \"Hello git\".\n",
    "* Stage this file with `git add -A`.\n",
    "* Commit this file with `git commit -m \"Add first file\"`.\n",
    "* Create a branch with `git branch develop`.\n",
    "* Switch to this branch with `git checkout develop` you can see where you are with `git status`.\n",
    "* Change the text in the file into \"Hello git, we are on a branch\".\n",
    "* Commit this change with `git add -A`, `git commit -m \"Adds better text\"`.\n",
    "* Switch to master with `git checkout master` and open the file, what text is there?\n",
    "* Merge the changes from develop with `git merge develop`.\n",
    "* View the history with `git log` and the graph with `git log --graph`."
   ]
  },
  {
   "cell_type": "markdown",
   "metadata": {
    "slideshow": {
     "slide_type": "subslide"
    }
   },
   "source": [
    "## Commit messages\n",
    "\n",
    "During commit, you should add a meaningful commit message with `git commit -m \"Your message goes here\"` to avoid meaningless git history like in this xdk comic:\n",
    "\n",
    "<a title=\"xkcd 1296\" href=\"https://xkcd.com/1296/\"><img width=\"400\" alt=\"version control\" src=\"https://imgs.xkcd.com/comics/git_commit.png\" ></a>\n",
    "\n",
    "Good commit messages are well explained in numerous blog posts. One great blog post is from Chris Beams and linked in the next code block."
   ]
  },
  {
   "cell_type": "code",
   "execution_count": 3,
   "metadata": {
    "slideshow": {
     "slide_type": "subslide"
    }
   },
   "outputs": [
    {
     "data": {
      "text/html": [
       "\n",
       "        <iframe\n",
       "            width=\"1000\"\n",
       "            height=\"600\"\n",
       "            src=\"https://chris.beams.io/posts/git-commit/#seven-rules\"\n",
       "            frameborder=\"0\"\n",
       "            allowfullscreen\n",
       "        ></iframe>\n",
       "        "
      ],
      "text/plain": [
       "<IPython.lib.display.IFrame at 0x7fcb587530d0>"
      ]
     },
     "execution_count": 3,
     "metadata": {},
     "output_type": "execute_result"
    }
   ],
   "source": [
    "IFrame(src='https://chris.beams.io/posts/git-commit/#seven-rules',\n",
    "       width=1000, height=600)"
   ]
  },
  {
   "cell_type": "markdown",
   "metadata": {
    "slideshow": {
     "slide_type": "subslide"
    }
   },
   "source": [
    "## Pull Requests\n",
    "\n",
    "If more than one developers works on a repository, which is the common case, merges of branches into master branch are handled through pull requests.\n",
    "\n",
    "**A pull request is a discussion between contributor (developer) and maintainer** (usually the most experienced developer in the team) to include the changes of the developer in master version.\n",
    "\n",
    "A pull request is the practical implementation of code review and ensures code quality. You can find very good explanations how to do pull requests in this blog post [How to Do Code Reviews Like a Human](https://mtlynch.io/human-code-reviews-1/).\n",
    "\n",
    "This discussion is done on architecture level down to line of code level and platforms like GitHub provide extensive comment tools as we will see later."
   ]
  },
  {
   "cell_type": "code",
   "execution_count": 4,
   "metadata": {
    "slideshow": {
     "slide_type": "subslide"
    }
   },
   "outputs": [
    {
     "data": {
      "text/html": [
       "\n",
       "        <iframe\n",
       "            width=\"1000\"\n",
       "            height=\"600\"\n",
       "            src=\"https://mtlynch.io/human-code-reviews-1/\"\n",
       "            frameborder=\"0\"\n",
       "            allowfullscreen\n",
       "        ></iframe>\n",
       "        "
      ],
      "text/plain": [
       "<IPython.lib.display.IFrame at 0x7fcb58753810>"
      ]
     },
     "execution_count": 4,
     "metadata": {},
     "output_type": "execute_result"
    }
   ],
   "source": [
    "IFrame(src='https://mtlynch.io/human-code-reviews-1/', width=1000, height=600)"
   ]
  },
  {
   "cell_type": "markdown",
   "metadata": {
    "slideshow": {
     "slide_type": "subslide"
    }
   },
   "source": [
    "## More git training material\n",
    "\n",
    "Git can be learned from many sources and there is much more possible to do with than we have seen herein.\n",
    "\n",
    "Here an incomplete list of references to become a git professional.\n",
    "\n",
    "* A great page to learn git interactively [https://learngitbranching.js.org/](https://learngitbranching.js.org/).\n",
    "* The main features of git are listed in this [git page](https://git-scm.com/about/branching-and-merging).\n",
    "* There is a free git book available on [https://git-scm.com/book/en/v2](https://git-scm.com/book/en/v2).\n",
    "* Please find some [introduction videos in git's doc](https://git-scm.com/doc).\n",
    "* Also take a look at this [git cheat sheet](https://www.atlassian.com/git/tutorials/atlassian-git-cheatsheet)."
   ]
  },
  {
   "cell_type": "markdown",
   "metadata": {
    "slideshow": {
     "slide_type": "slide"
    }
   },
   "source": [
    "# GitHub\n",
    "\n",
    "<img src=\"https://raw.githubusercontent.com/gilbarbara/logos/master/logos/github-octocat.svg?sanitize=true\" alt=\"Octocat\" width=\"150\" align=\"right\">\n",
    "\n",
    "[GitHub](https://github.com/) is a development platform built specifically for git and provides beside basic code hosting many features to develop and promote software products open source. Almost all Python libraries are stored on GitHub. The features include: source code management, continuous integration and delivery, code review, project management, team management, and many more services like promotion web pages for your project in GitHub pages.\n",
    "\n",
    "Other options for source code management in the web are [bitbucket](https://bitbucket.org/) and [gitlab](https://about.gitlab.com/).\n",
    "\n",
    "You can find all features on [https://github.com/features](  https://github.com/features)."
   ]
  },
  {
   "cell_type": "markdown",
   "metadata": {
    "slideshow": {
     "slide_type": "subslide"
    }
   },
   "source": [
    "Add to this, GitHub is built for developers and promotes open source, and you can learn from the best developers like [https://github.com/torvalds](https://github.com/torvalds).\n",
    "\n",
    "Now let us explore one example project on github, which is [scikit-learn](https://github.com/scikit-learn/scikit-learn)."
   ]
  },
  {
   "cell_type": "markdown",
   "metadata": {
    "slideshow": {
     "slide_type": "subslide"
    }
   },
   "source": [
    "## Scikit-learn as example open source project\n",
    "\n",
    "We will see that a well maintained open source project requires lot effort. Beside the programming code, many additional artifacts, documentation, project management, and quality assurance is to find.\n",
    "\n",
    "Many projects on GitHub share a common structure of files and we will explore the structure of the scikit-learn repository in the sequel."
   ]
  },
  {
   "cell_type": "markdown",
   "metadata": {
    "slideshow": {
     "slide_type": "subslide"
    }
   },
   "source": [
    "## Repository structure\n",
    "\n",
    "### `README` \n",
    "\n",
    "This file is the first anchor if you arrive as developer. It should contain information what the software does and what is the aim of the project. \n",
    "\n",
    "Also information **how to install** the software, **how to contribute**, information about the **software health**, **links to wiki** or other websites and so forth are placed in a good readme."
   ]
  },
  {
   "cell_type": "markdown",
   "metadata": {
    "slideshow": {
     "slide_type": "subslide"
    }
   },
   "source": [
    "Here a screen shot of the `README` file, note the colored badges from continuous integration reports.\n",
    "\n",
    "<img src=\"sklearn.png\" alt=\"sklearn readme\" width=\"700\">"
   ]
  },
  {
   "cell_type": "markdown",
   "metadata": {
    "slideshow": {
     "slide_type": "subslide"
    }
   },
   "source": [
    "### Additional files for developers\n",
    "\n",
    "Next to `README`, scikit-learn comes with `CONTRIBUTING`, `CODE_OF_CONDUCT`, and `PULL_REQUEST_TEMPLATE` files to define rules and guidelines for developers who want to contribute and to define some common rules for all project members.\n",
    "\n",
    "It is actually like an own state with legislation rules that you find there. "
   ]
  },
  {
   "cell_type": "markdown",
   "metadata": {
    "slideshow": {
     "slide_type": "subslide"
    }
   },
   "source": [
    "### `doc`\n",
    "\n",
    "`doc` is usually a folder which contains the documentation of the software. The documentation is usually divided into code documentation (API), a user manual, tutorial, and additional more theoretical explanation.\n",
    "\n",
    "Commonly, the **documentation is automatically build through continuous integration** and deployed to a web page. We will explore continuous integration later.\n",
    "\n",
    "Most Python libraries are documented with Sphinx, which we will discover soon in this course."
   ]
  },
  {
   "cell_type": "markdown",
   "metadata": {
    "slideshow": {
     "slide_type": "subslide"
    }
   },
   "source": [
    "### Source code folder\n",
    "\n",
    "Of course the actual source code of the software is stored on GitHub. In sklearn, the code is to find in the `sklearn` folder.\n",
    "\n",
    "It is very useful to read well written code to become a better programmer. The `load_digits` function, which we used in the scikit-learn part of this course, is for instance [here to find](https://github.com/scikit-learn/scikit-learn/blob/d6bb321fc0ddbb5bd91e7c8c90706a2ea8d65c6c/sklearn/datasets/_base.py#L611).\n",
    "\n",
    "You can see that the developers spent lots of energy in documentation and meaningful code style. This is called *clean code* and we will see some clean code principles later on."
   ]
  },
  {
   "cell_type": "markdown",
   "metadata": {
    "slideshow": {
     "slide_type": "subslide"
    }
   },
   "source": [
    "### Tests\n",
    "\n",
    "Code tests are very important to keep a software in a healthy state and to allow changes in the software. \n",
    "\n",
    "* Hence, tests are vital to keep technical debt low,\n",
    "* and to keep the software *soft*.\n",
    "\n",
    "Usually, you can find tests on root folder level in a `tests` folder, here in scikit-learn, they are in the source folder included.\n",
    "\n",
    "You can find the test coverage here [![](https://codecov.io/github/scikit-learn/scikit-learn/badge.svg?branch=master&service=github)](https://codecov.io/github/scikit-learn/scikit-learn?branch=master)"
   ]
  },
  {
   "cell_type": "markdown",
   "metadata": {
    "slideshow": {
     "slide_type": "subslide"
    }
   },
   "source": [
    "### Configuration files\n",
    "\n",
    "There are typically many configuration files on root level of repositories such as \n",
    "* `.gitignore`, which defines which filed should be ignored by git,\n",
    "* `.gitattributes`, which defines for instance how merges should be handled,\n",
    "* `setup.cfg`, which defines options of Python code checkers like `pytest`, and `flake8`,\n",
    "* `setup.py`, which organizes development version installation."
   ]
  },
  {
   "cell_type": "markdown",
   "metadata": {
    "slideshow": {
     "slide_type": "subslide"
    }
   },
   "source": [
    "## Issues and pull requests\n",
    "\n",
    "The project management is handled through [issues](https://github.com/scikit-learn/scikit-learn/issues) where bugs and feature requests are discussed and tracked. This is the first place where developers interact through discussions.\n",
    "\n",
    "The actual change of the master version of scikit-learn is organized, discussed and performed through [pull requests](https://github.com/scikit-learn/scikit-learn/pulls)."
   ]
  },
  {
   "cell_type": "markdown",
   "metadata": {
    "slideshow": {
     "slide_type": "subslide"
    }
   },
   "source": [
    "## Take a look at pull requests\n",
    "\n",
    "A pull request is a discussion between **contributor** and **maintainer** to change the code of the master or development branch.\n",
    "\n",
    "Here an example with a [lean and simple pull request](https://github.com/scikit-learn/scikit-learn/pull/16366).\n",
    "\n",
    "And here an example with a [more elaborate pull request](https://github.com/scikit-learn/scikit-learn/pull/16339).\n",
    "\n",
    "To sum up, you can also learn a lot if you just follow interesting pull requests."
   ]
  },
  {
   "cell_type": "markdown",
   "metadata": {
    "slideshow": {
     "slide_type": "subslide"
    }
   },
   "source": [
    "## GitHub in a nutshell\n",
    "\n",
    "GitHub provides a rich source of information and you can learn from giants in the software development!"
   ]
  }
 ],
 "metadata": {
  "celltoolbar": "Slideshow",
  "kernelspec": {
   "display_name": "Python 3",
   "language": "python",
   "name": "python3"
  },
  "language_info": {
   "codemirror_mode": {
    "name": "ipython",
    "version": 3
   },
   "file_extension": ".py",
   "mimetype": "text/x-python",
   "name": "python",
   "nbconvert_exporter": "python",
   "pygments_lexer": "ipython3",
   "version": "3.7.6"
  },
  "toc": {
   "base_numbering": 1,
   "nav_menu": {},
   "number_sections": true,
   "sideBar": true,
   "skip_h1_title": false,
   "title_cell": "Table of Contents",
   "title_sidebar": "Contents",
   "toc_cell": false,
   "toc_position": {},
   "toc_section_display": true,
   "toc_window_display": true
  },
  "varInspector": {
   "cols": {
    "lenName": 16,
    "lenType": 16,
    "lenVar": 40
   },
   "kernels_config": {
    "python": {
     "delete_cmd_postfix": "",
     "delete_cmd_prefix": "del ",
     "library": "var_list.py",
     "varRefreshCmd": "print(var_dic_list())"
    },
    "r": {
     "delete_cmd_postfix": ") ",
     "delete_cmd_prefix": "rm(",
     "library": "var_list.r",
     "varRefreshCmd": "cat(var_dic_list()) "
    }
   },
   "types_to_exclude": [
    "module",
    "function",
    "builtin_function_or_method",
    "instance",
    "_Feature"
   ],
   "window_display": false
  }
 },
 "nbformat": 4,
 "nbformat_minor": 2
}
