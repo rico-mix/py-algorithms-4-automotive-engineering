{
 "cells": [
  {
   "cell_type": "code",
   "execution_count": 1,
   "metadata": {
    "slideshow": {
     "slide_type": "skip"
    }
   },
   "outputs": [],
   "source": [
    "# Required to load webpages\n",
    "from IPython.display import IFrame"
   ]
  },
  {
   "cell_type": "markdown",
   "metadata": {
    "slideshow": {
     "slide_type": "slide"
    }
   },
   "source": [
    "[Table of contents](../toc.ipynb)\n",
    "\n",
    "<img src=\"https://github.com/sphinx-doc/sphinx/raw/master/doc/_static/sphinx.png\" alt=\"Sphinx\" width=\"400\" align=\"right\">\n",
    "\n",
    "# Sphinx\n",
    "\n",
    "Sphinx is a python library to create beautiful documentation pages for Python software projects. It was written for the Python doc itself and became number one tool for many other packages. Some examples of the Sphinx's output are:\n",
    "* [the Python documentation](https://docs.python.org/),\n",
    "* [scikit-learn](https://scikit-learn.org/stable/index.html),\n",
    "* [numpy](https://numpy.org/).\n",
    "\n",
    "Please find here an extensive list of projects using Sphinx: [https://www.sphinx-doc.org/en/master/examples.html](https://www.sphinx-doc.org/en/master/examples.html)."
   ]
  },
  {
   "cell_type": "markdown",
   "metadata": {
    "slideshow": {
     "slide_type": "subslide"
    }
   },
   "source": [
    "## Why care about documentation?\n",
    "\n",
    "There are good reasons to work continuously on documentation. New developers need to know about the \"mechanics\" of the software, users want to know how to apply the software and also want to know some background information,...\n",
    "\n",
    "The list of reasons for documentation is actually very long and you see that different people are addressed.\n",
    "\n",
    "This is the reason why it is recommended to split the documentation into four parts:\n",
    "1. Tutorials (learning-oriented),\n",
    "2. How-to guides (goal-oriented),\n",
    "3. Explanation (understanding-oriented),\n",
    "4. Reference (information-oriented),\n",
    "\n",
    "please read this great blog post: [\"What nobody tells you about documentation\"](https://www.divio.com/blog/documentation/)."
   ]
  },
  {
   "cell_type": "markdown",
   "metadata": {
    "slideshow": {
     "slide_type": "subslide"
    }
   },
   "source": [
    "## Sphinx getting started\n",
    "\n",
    "Sphinx is available as conda and pip package and there is a quickstart command which sets up the required folder structure, options and files.\n",
    "\n",
    "Sphinx docu is written with [reStructuredText](https://docutils.sourceforge.io/rst.html) markup language in `.rst` files. The syntax is explained in the previous link and easy to learn.\n",
    "\n",
    "Let us start with a small Sphinx documentation."
   ]
  },
  {
   "cell_type": "markdown",
   "metadata": {
    "slideshow": {
     "slide_type": "subslide"
    }
   },
   "source": [
    "## Exercise:  `sphinx-quickstart` (10 minutes)\n",
    "\n",
    "<img src=\"../_static/exercise.png\" alt=\"Exercise\" width=\"75\" align=\"left\">\n",
    "\n",
    "* Install Sphinx.\n",
    "* Create a folder `doc` and change your terminal path to it.\n",
    "* Run `sphinx-quickstart` from a terminal and answer the questions.\n",
    "* The files `make.bat`, `Makefile`, `conf.py`, `index.rst` and folders `build`, `static` and `templates` should show up.\n",
    "* Now build this documentation with `make html`.\n",
    "* To see the result open the file `build/html/index.html` in your browser.\n",
    "* Take a look at the `conf.py` file, which contains the configuration and the `index.rst` file which contains the text of the main docu page."
   ]
  },
  {
   "cell_type": "markdown",
   "metadata": {
    "slideshow": {
     "slide_type": "subslide"
    }
   },
   "source": [
    "## Short intro to reStructuredText\n",
    "\n",
    "Here some short comments on reStructuredText syntax.\n",
    "\n",
    "### Headers\n",
    "\n",
    "Can be generated with \n",
    "```\n",
    "Chapter 1 Title\n",
    "===============\n",
    "\n",
    "Section 1.1 Title\n",
    "-----------------\n",
    "\n",
    "Subsection 1.1.1 Title\n",
    "~~~~~~~~~~~~~~~~~~~~~~\n",
    "```"
   ]
  },
  {
   "cell_type": "markdown",
   "metadata": {
    "slideshow": {
     "slide_type": "subslide"
    }
   },
   "source": [
    "### Lists\n",
    "Bullets use stars.\n",
    "```\n",
    "* bullet one\n",
    "* bullet two\n",
    "  - sub bullet\n",
    "    + subsub bullet\n",
    "```\n",
    "And enumerated lists use numbers or letters.\n",
    "```\n",
    "A. bullet one\n",
    "B. bullet two\n",
    "  1. sub bullet\n",
    "    a. subsub bullet\n",
    "```"
   ]
  },
  {
   "cell_type": "markdown",
   "metadata": {
    "slideshow": {
     "slide_type": "subslide"
    }
   },
   "source": [
    "### Text styles\n",
    "\n",
    "`*italics*`, `**bold**`, and back ticks are used for `fixed spaced text` \n",
    "\n",
    "### Images\n",
    "\n",
    "`.. image:: some_image.png`\n",
    "\n",
    "### Hyperlinks\n",
    "\n",
    "`google.com <http://google.com>`_\n",
    "\n",
    "### Try reStructuredText online\n",
    "\n",
    "There is a website where you can paste and try reStructured text interactively [http://rst.ninjs.org/](http://rst.ninjs.org/).\n",
    "\n",
    "Please find more details in the [reStruckturedText docu](https://docutils.sourceforge.io/rst.html), [cheat sheet](https://docutils.sourceforge.io/docs/user/rst/cheatsheet.txt), and [Sphinx page about reStructuredText](https://www.sphinx-doc.org/en/master/usage/restructuredtext/index.html)."
   ]
  },
  {
   "cell_type": "markdown",
   "metadata": {
    "slideshow": {
     "slide_type": "subslide"
    }
   },
   "source": [
    "## Sphinx extension autodoc\n",
    "\n",
    "[Sphinx autodoc](https://www.sphinx-doc.org/en/master/usage/quickstart.html#autodoc) is an extension to generate documentation out of doc strings in Python code. Hence, you can document your code directly in the doc string with this extension.\n",
    "\n",
    "You can configure this extension with \n",
    "\n",
    "`extensions = ['sphinx.ext.autodoc']` in the `conf.py` file.\n",
    "\n"
   ]
  },
  {
   "cell_type": "markdown",
   "metadata": {
    "slideshow": {
     "slide_type": "subslide"
    }
   },
   "source": [
    "### An autodoc example\n",
    "\n",
    "Assume this file and folder structure of a project,\n",
    "```\n",
    "|___ doc\n",
    "|___ conv.py\n",
    "|___ index.rst\n",
    "|___ make.bat\n",
    "|___ Makefile\n",
    "    |___src\n",
    "        |___ __init__.py\n",
    "        |___ matrix_comp.py\n",
    "```"
   ]
  },
  {
   "cell_type": "markdown",
   "metadata": {
    "slideshow": {
     "slide_type": "subslide"
    }
   },
   "source": [
    "where the `matrix_comp.py` file contains\n",
    "\n",
    "```python\n",
    "\"\"\"\n",
    ".. module:: matrix_comp\n",
    "\n",
    "The :py:mod:`matrix_comp` module provides ...\n",
    "\"\"\"\n",
    "\n",
    "def matrix_multiply(a, b):\n",
    "    \"\"\" The :py:func:`matrix_algebra.matrix_multiply` function computes\n",
    "    the product of two matrices.\n",
    "\n",
    "    Args:\n",
    "        a (numpy.ndarray): first matrix\n",
    "        b (numpy.ndarray): second matrix\n",
    "\n",
    "    Returns:\n",
    "        (numpy.ndarray): product of a and b\n",
    "\n",
    "    \"\"\"\n",
    "    return a @ b\n",
    "```"
   ]
  },
  {
   "cell_type": "markdown",
   "metadata": {
    "slideshow": {
     "slide_type": "subslide"
    }
   },
   "source": [
    "The autodoc extension needs these settings in `conf.py`.\n",
    "\n",
    "```python\n",
    "import os\n",
    "import sys\n",
    "sys.path.insert(0, os.path.abspath('.'))\n",
    "\n",
    "extensions = ['sphinx.ext.autodoc']\n",
    "```"
   ]
  },
  {
   "cell_type": "markdown",
   "metadata": {
    "slideshow": {
     "slide_type": "subslide"
    }
   },
   "source": [
    "To include the module in your documentation, call `automodule` in `index.rst` file like this.\n",
    "\n",
    "```\n",
    "Matrix computation module\n",
    "-------------------------\n",
    ".. automodule:: src.matrix_comp\n",
    "    :members:\n",
    "```"
   ]
  },
  {
   "cell_type": "markdown",
   "metadata": {
    "slideshow": {
     "slide_type": "subslide"
    }
   },
   "source": [
    "If you run `make html`, documentation start page will result in.\n",
    "\n",
    "<img src=\"sphinx_result.png\" alt=\"Sphinx_result\" width=\"800\">"
   ]
  },
  {
   "cell_type": "markdown",
   "metadata": {
    "slideshow": {
     "slide_type": "subslide"
    }
   },
   "source": [
    "## Sphinx-Gallery extension\n",
    "\n",
    "[Sphinx-Gallery](https://sphinx-gallery.github.io/stable/index.html) renders Python files as notebooks and is ideal if you want to write tutorials for your software.\n",
    "\n",
    "Sphinx gallery must be installed as conda or pip package and must be called in `conf.py` with \n",
    "```python\n",
    "extensions = [...\n",
    "    'sphinx_gallery.gen_gallery',\n",
    "    ]\n",
    "```\n",
    "\n",
    "Many popular packages like scikit-learn use Sphinx gallery to present tutorials, see also [who uses Sphinx-Gallery](https://sphinx-gallery.github.io/stable/projects_list.html).\n",
    "\n",
    "In the next cell some gallery examples from Sphinx-Gallery page are linked."
   ]
  },
  {
   "cell_type": "code",
   "execution_count": 2,
   "metadata": {
    "slideshow": {
     "slide_type": "subslide"
    }
   },
   "outputs": [
    {
     "data": {
      "text/html": [
       "\n",
       "        <iframe\n",
       "            width=\"1000\"\n",
       "            height=\"600\"\n",
       "            src=\"https://sphinx-gallery.github.io/stable/auto_examples/index.html\"\n",
       "            frameborder=\"0\"\n",
       "            allowfullscreen\n",
       "        ></iframe>\n",
       "        "
      ],
      "text/plain": [
       "<IPython.lib.display.IFrame at 0x10d2a7dd0>"
      ]
     },
     "execution_count": 2,
     "metadata": {},
     "output_type": "execute_result"
    }
   ],
   "source": [
    "IFrame(src='https://sphinx-gallery.github.io/stable/auto_examples/index.html',\n",
    "       width=1000, height=600)"
   ]
  },
  {
   "cell_type": "markdown",
   "metadata": {
    "slideshow": {
     "slide_type": "subslide"
    }
   },
   "source": [
    "## References\n",
    "\n",
    "* There are many more extensions for Sphinx available. This was just a short introduction.\n",
    "\n",
    "* There is one German book called [Software-Dokumentation mit Sphinx](http://www.worldcat.org/oclc/889425279), but best is to look at github projects which have good documentation. \n",
    "\n",
    "* It is very common to store the Sphinx files in a `doc` folder on root level. You can learn from open source best how to create more advanced documents with Sphinx."
   ]
  }
 ],
 "metadata": {
  "celltoolbar": "Slideshow",
  "kernelspec": {
   "display_name": "Python 3",
   "language": "python",
   "name": "python3"
  },
  "language_info": {
   "codemirror_mode": {
    "name": "ipython",
    "version": 3
   },
   "file_extension": ".py",
   "mimetype": "text/x-python",
   "name": "python",
   "nbconvert_exporter": "python",
   "pygments_lexer": "ipython3",
   "version": "3.7.6"
  },
  "toc": {
   "base_numbering": 1,
   "nav_menu": {},
   "number_sections": true,
   "sideBar": true,
   "skip_h1_title": false,
   "title_cell": "Table of Contents",
   "title_sidebar": "Contents",
   "toc_cell": false,
   "toc_position": {},
   "toc_section_display": true,
   "toc_window_display": false
  },
  "varInspector": {
   "cols": {
    "lenName": 16,
    "lenType": 16,
    "lenVar": 40
   },
   "kernels_config": {
    "python": {
     "delete_cmd_postfix": "",
     "delete_cmd_prefix": "del ",
     "library": "var_list.py",
     "varRefreshCmd": "print(var_dic_list())"
    },
    "r": {
     "delete_cmd_postfix": ") ",
     "delete_cmd_prefix": "rm(",
     "library": "var_list.r",
     "varRefreshCmd": "cat(var_dic_list()) "
    }
   },
   "types_to_exclude": [
    "module",
    "function",
    "builtin_function_or_method",
    "instance",
    "_Feature"
   ],
   "window_display": false
  }
 },
 "nbformat": 4,
 "nbformat_minor": 2
}
