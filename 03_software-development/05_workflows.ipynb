{
 "cells": [
  {
   "cell_type": "markdown",
   "metadata": {
    "slideshow": {
     "slide_type": "slide"
    }
   },
   "source": [
    "[Table of contents](../toc.ipynb)\n",
    "\n",
    "# Workflows and beyond\n",
    "\n",
    "This final theory notebook will be a short summary of different workflows and software development processes. The goal is to get a high level overview of the methods. \n",
    "\n",
    "Add to this, two methods for collaborative software development are outlined."
   ]
  },
  {
   "cell_type": "markdown",
   "metadata": {
    "slideshow": {
     "slide_type": "subslide"
    }
   },
   "source": [
    "## Keywords\n",
    "\n",
    "You probably heard about keywords and concepts like\n",
    "\n",
    "* Inner Source,\n",
    "* Open Source,\n",
    "* Waterfall, \n",
    "* Agile?\n",
    "\n",
    "The first two keywords are about collaboration models and the latter about project management (or its absence).\n",
    "\n",
    "Let us take a short look at Open and Inner Source first."
   ]
  },
  {
   "cell_type": "markdown",
   "metadata": {
    "slideshow": {
     "slide_type": "subslide"
    }
   },
   "source": [
    "## Collaboration\n",
    "\n",
    "### Open Source\n",
    "\n",
    "<a href=\"https://de.wikipedia.org/wiki/Open_Source\"><img src=\"https://upload.wikimedia.org/wikipedia/commons/thumb/4/42/Opensource.svg/170px-Opensource.svg.png\" alt=\"Open Source\" width=\"100\" align=\"right\"></a>\n",
    "\n",
    "Nowadays, there is no need to tell much about [open source](https://en.wikipedia.org/wiki/Open_source) because it is virtually everywhere and very successful. Especially if you are using Python, you build entirely on open source software.\n",
    "\n",
    "The main strengths of open source are:\n",
    "* reuse of software,\n",
    "* often better quality than proprietary software,\n",
    "* you can propose extensions,\n",
    "* more trustworthy because you can read the code,\n",
    "* close to customer, you can change the part of software you want,\n",
    "* ...\n",
    "\n",
    "This was just a short list of arguments. "
   ]
  },
  {
   "cell_type": "markdown",
   "metadata": {
    "slideshow": {
     "slide_type": "subslide"
    }
   },
   "source": [
    "### Inner Source\n",
    "\n",
    "<a href=\"http://innersourcecommons.org/\"><img src=\"http://innersourcecommons.org/assets/img/isc-border.png\" alt=\"Inner Source\" width=\"100\" align=\"right\"></a>\n",
    "\n",
    "[Inner Source](https://en.wikipedia.org/wiki/Inner_source) is a rather recent initiative to apply open source principles inside companies. Larger companies face basically the same challenges that lead to open source culture. These challenges are:\n",
    "\n",
    "* Software development is highly distributed in space (countries, departments) and time (time locations).\n",
    "* Redundant software development is waste of money, reuse of existing software makes more sense.\n",
    "* It is hard to shape high quality software culture without sharing code.\n",
    "* Organizational boundaries slow down development and do not contribute to quality."
   ]
  },
  {
   "cell_type": "markdown",
   "metadata": {
    "slideshow": {
     "slide_type": "subslide"
    }
   },
   "source": [
    "<a href=\"http://innersourcecommons.org/assets/img/AdoptingInnerSource.jpg\"><img src=\"http://innersourcecommons.org/assets/img/AdoptingInnerSource.jpg\" alt=\"Inner Source Book\" width=\"100\" align=\"right\"></a>\n",
    "\n",
    "Add to these challenges, inner source benefits are:\n",
    "* Flexible utilization of developers (you do not need to change the department to fix a bug in a project).\n",
    "* Higher motivated developers.\n",
    "\n",
    "A great source of company experience with inner source is [[Cooper2018]](../references.bib)."
   ]
  },
  {
   "cell_type": "markdown",
   "metadata": {
    "slideshow": {
     "slide_type": "subslide"
    }
   },
   "source": [
    "### Silo thinking\n",
    "\n",
    "<img width=\"150\" alt=\"silo\" src=\"../_static/silo.jpg\" align=\"right\">\n",
    "\n",
    "Last but not least, probably the majority of software within companies is still written in silos. The common problems with silo thinking in general are:\n",
    "\n",
    "* It is hard to find someone who is in charge.\n",
    "* Much redundant is work is done.\n",
    "* The quality is usually poorer than in shared projects because no one else can see the mess behind.\n",
    "* Individual software parts within a company are not compatible because there is not need to work together.\n",
    "* Specification, negotiation, internal contracting wastes many resources.\n",
    "* Blaming more common than solving problems.\n",
    "* ..."
   ]
  },
  {
   "cell_type": "markdown",
   "metadata": {
    "slideshow": {
     "slide_type": "subslide"
    }
   },
   "source": [
    "## Development paradigms\n",
    "\n",
    "### Waterfall model\n",
    "\n",
    "The [waterfall model](https://en.wikipedia.org/wiki/Waterfall_model) is the oldest project management principle and is seen as \"not so hot today\".\n",
    "\n",
    "The waterfall model is a sequential development where **product requirements** are converted into a \n",
    "**software design**, the **implementation** is made within this design, the software is **verified**, and **maintained**.\n",
    "\n",
    "Main criticism is with respect to sequential development. **Usually, neither costumers nor product managers know all requirements at beginning** and in practice the **requirements change over time**. With waterfall, you need to wait until end of verification to change the requirements and start from scratch, which is very time consuming."
   ]
  },
  {
   "cell_type": "markdown",
   "metadata": {
    "slideshow": {
     "slide_type": "subslide"
    }
   },
   "source": [
    "<a title=\"CC BY 3.0 by Geek and Poke\" href=\"http://geek-and-poke.com/geekandpoke/2012/10/1/doad.html\"><img width=\"350\" alt=\"almost done\" src=\"http://s3.media.squarespace.com/production/2129687/19317774/.a/6a00d8341d3df553ef017ee3e6a10f970d-800wi\" align=\"right\"></a>\n",
    "\n",
    "### Agile\n",
    "\n",
    "Compared with waterfall, the term [Agile](https://en.wikipedia.org/wiki/Agile_software_development) is very hot and a lot of consulting agencies make money out of this fact.\n",
    "\n",
    "Agile originates from the [agile manifesto](https://agilemanifesto.org/) which makes the following suggestions:\n",
    "\n",
    "* **Individuals and Interactions** over processes and tools\n",
    "* **Working Software** over comprehensive documentation\n",
    "* **Customer Collaboration** over contract negotiation\n",
    "* **Responding to Change** over following a plan"
   ]
  },
  {
   "cell_type": "markdown",
   "metadata": {
    "slideshow": {
     "slide_type": "subslide"
    }
   },
   "source": [
    "<a title=\"CC BY 3.0 by Geek and Poke\" href=\"http://geek-and-poke.com/geekandpoke/2016/4/26/finally-agile\"><img width=\"350\" alt=\"finally agile\" src=\"https://images.squarespace-cdn.com/content/v1/518f5d62e4b075248d6a3f90/1461706611560-F89DIXX8PVBXMHFH2AIE/ke17ZwdGBToddI8pDm48kKPkarJTiB48oWPGUQ76BaN7gQa3H78H3Y0txjaiv_0faShnVfr-ySw9qgw5FxrvM0_-U88Vz3_ValeR7UJawSO8tYm6j2RpB0d1Gi3SQHdgOqpeNLcJ80NK65_fV7S1UR5Xs9DxgCAdpDMB2e4IT-ha50phGt447LzNOTZrI4UdM14nZUo0tVr0uKhdsAoztA/image-asset.jpeg?format=1000w\" align=\"right\"></a>\n",
    "\n",
    "Therefore from its roots, **agile is quite the opposite to what large organizations are used to work with**. \n",
    "\n",
    "This is why a lot of consulting agencies bend agile into a form which is convenient for large companies so that they can say they are working agile but stick to their old culture.\n",
    "\n",
    "Agile is often used in combination or as substitute for terms like **Scrum** and **Kanban**, which complicates things further. Instead of a lengthly explanation what Agile is, I prefer to provide a very short explanation and a warning and links to expert resources."
   ]
  },
  {
   "cell_type": "markdown",
   "metadata": {
    "slideshow": {
     "slide_type": "subslide"
    }
   },
   "source": [
    "### Agile in a nutshell\n",
    "\n",
    "<img width=\"500\" alt=\"agile\" src=\"agile.png\" align=\"center\">\n",
    "\n",
    "* Agile is iterative development.\n",
    "* Working software is delivered frequently (weeks no months).\n",
    "* Simplicity is what counts! MVP minimum viable product (bare minimum for the client).\n",
    "* Regular meetings: daily standup (what did I, what I am working on, problems), sprint planning (slice features into stories, estimate effort in story points), sprint review (team presents what is delivered), retrospectives (what went wrong or well, continuous improvement)."
   ]
  },
  {
   "cell_type": "markdown",
   "metadata": {
    "slideshow": {
     "slide_type": "subslide"
    }
   },
   "source": [
    "#### Sad story: some experts recommend to abandon Agile\n",
    "\n",
    "Experts who developed the agile manifesto actually recommend developers to [abandon agile](https://ronjeffries.com/articles/018-01ff/abandon-1/) because the process people flood all agile conferences with a very process driven view on agile. \n",
    "\n",
    "As result, many agile implementations in large companies are process driven and already the first principle \"**Individuals and Interactions** over processes and tools\" is not realized. This process driven implementations are known as [dark scrum](https://ronjeffries.com/articles/016-09ff/defense/).\n",
    "\n",
    "More serious warnings are stated in these conference video casts:\n",
    "\n",
    "* [The death of Agile - Allen Holub](https://www.youtube.com/watch?v=vSnCeJEka_s)\n",
    "* [GOTO 2015 • Agile is Dead • Pragmatic Dave Thomas](https://www.youtube.com/watch?v=a-BOSpxYJ9M)\n",
    "* [Agile in 2018](https://www.youtube.com/watch?v=G_y2pNj0zZg)"
   ]
  },
  {
   "cell_type": "markdown",
   "metadata": {
    "slideshow": {
     "slide_type": "subslide"
    }
   },
   "source": [
    "#### Books on Agile development\n",
    "\n",
    "<a href=\"https://www.oreilly.com/library/view/clean-agile-back/9780135782002/\"><img src=\"https://www.oreilly.com/library/cover/9780135782002/250w/\" alt=\"Clean Agile\" width=\"100\" align=\"right\"></a>\n",
    "\n",
    "\n",
    "As there are so many authors and consulting agencies make money out of the agile hype, it is not so easy to find the original concept behind agile. Here are two trustworthy sources from my point of view.\n",
    "\n",
    "* [Agile Software Guide blog on martinfowler.com](https://martinfowler.com/agile.html)\n",
    "* [[Martin2019]](../references.bib)"
   ]
  },
  {
   "cell_type": "markdown",
   "metadata": {
    "slideshow": {
     "slide_type": "subslide"
    }
   },
   "source": [
    "## Congrats\n",
    "\n",
    "<img src=\"../_static/flower.jpg\" alt=\"Flower\" width=\"350\" align=\"right\">\n",
    "\n",
    "These were the basics in software development I wanted to share. The topic is much larger, but with the given outline you will be able to understand and implement more advanced concepts.\n",
    "\n",
    "The final part of this course is a collection of mini projects."
   ]
  }
 ],
 "metadata": {
  "celltoolbar": "Slideshow",
  "kernelspec": {
   "display_name": "Python 3",
   "language": "python",
   "name": "python3"
  },
  "language_info": {
   "codemirror_mode": {
    "name": "ipython",
    "version": 3
   },
   "file_extension": ".py",
   "mimetype": "text/x-python",
   "name": "python",
   "nbconvert_exporter": "python",
   "pygments_lexer": "ipython3",
   "version": "3.7.6"
  },
  "toc": {
   "base_numbering": 1,
   "nav_menu": {},
   "number_sections": true,
   "sideBar": true,
   "skip_h1_title": false,
   "title_cell": "Table of Contents",
   "title_sidebar": "Contents",
   "toc_cell": false,
   "toc_position": {},
   "toc_section_display": true,
   "toc_window_display": true
  },
  "varInspector": {
   "cols": {
    "lenName": 16,
    "lenType": 16,
    "lenVar": 40
   },
   "kernels_config": {
    "python": {
     "delete_cmd_postfix": "",
     "delete_cmd_prefix": "del ",
     "library": "var_list.py",
     "varRefreshCmd": "print(var_dic_list())"
    },
    "r": {
     "delete_cmd_postfix": ") ",
     "delete_cmd_prefix": "rm(",
     "library": "var_list.r",
     "varRefreshCmd": "cat(var_dic_list()) "
    }
   },
   "types_to_exclude": [
    "module",
    "function",
    "builtin_function_or_method",
    "instance",
    "_Feature"
   ],
   "window_display": false
  }
 },
 "nbformat": 4,
 "nbformat_minor": 4
}
